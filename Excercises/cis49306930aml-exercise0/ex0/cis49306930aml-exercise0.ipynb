{
 "cells": [
  {
   "cell_type": "markdown",
   "metadata": {},
   "source": [
    "# Exercise 0: Getting Started!"
   ]
  },
  {
   "cell_type": "code",
   "execution_count": 1,
   "metadata": {},
   "outputs": [
    {
     "name": "stdout",
     "output_type": "stream",
     "text": [
      "### Python version: 3.8.3 (default, Jul  2 2020, 11:26:31) \n",
      "[Clang 10.0.0 ]\n",
      "### Numpy version: 1.19.5\n",
      "### Scikit-learn version: 0.23.1\n",
      "### TF version: 2.4.0\n",
      "### Keras version: 2.4.0\n",
      "------------\n"
     ]
    }
   ],
   "source": [
    "# Load packages we need\n",
    "import sys\n",
    "import os\n",
    "import tempfile \n",
    "\n",
    "import numpy as np\n",
    "import scipy.stats as stats\n",
    "import pandas as pd\n",
    "\n",
    "import sklearn\n",
    "\n",
    "%matplotlib inline\n",
    "from matplotlib import pyplot as plt\n",
    "plt.rcParams.update({'font.size': 16})\n",
    "\n",
    "import tensorflow as tf\n",
    "\n",
    "# Let's check our software versions\n",
    "print('### Python version: ' + sys.version)\n",
    "print('### Numpy version: ' + np.__version__)\n",
    "print('### Scikit-learn version: ' + sklearn.__version__)\n",
    "print('### TF version: ' + tf.__version__)\n",
    "print('### Keras version: ' + tf.keras.__version__)\n",
    "print('------------')\n",
    "\n",
    "\n",
    "# load our packages / code\n",
    "sys.path.insert(1, '../common/')\n",
    "import utils\n",
    "import plots"
   ]
  },
  {
   "cell_type": "code",
   "execution_count": 2,
   "metadata": {},
   "outputs": [],
   "source": [
    "# global parameters to control behavior of the pre-processing, ML, analysis, etc.\n",
    "\n",
    "seed = 42 # deterministic seed\n",
    "\n",
    "np.random.seed(seed) \n",
    "\n",
    "train_prop = 0.8\n",
    "test_prop = 1.0 - train_prop"
   ]
  },
  {
   "cell_type": "markdown",
   "metadata": {},
   "source": [
    "### Loading data"
   ]
  },
  {
   "cell_type": "code",
   "execution_count": 3,
   "metadata": {},
   "outputs": [],
   "source": [
    "from sklearn.datasets import load_iris\n",
    "\n",
    "# For this exercise, we'll load a dataset directly from scikit-learn\n",
    "iris = load_iris()\n",
    "# Ref: https://scikit-learn.org/stable/modules/generated/sklearn.datasets.load_iris.html\n",
    "\n",
    "all_x = iris['data']\n",
    "all_y = iris['target']\n",
    "\n",
    "classes = iris['target_names']\n",
    "features = iris['feature_names'] "
   ]
  },
  {
   "cell_type": "code",
   "execution_count": 4,
   "metadata": {},
   "outputs": [
    {
     "name": "stdout",
     "output_type": "stream",
     "text": [
      "['setosa' 'versicolor' 'virginica']\n",
      "['sepal length (cm)', 'sepal width (cm)', 'petal length (cm)', 'petal width (cm)']\n"
     ]
    }
   ],
   "source": [
    "print(classes)\n",
    "print(features)"
   ]
  },
  {
   "cell_type": "code",
   "execution_count": 11,
   "metadata": {},
   "outputs": [
    {
     "name": "stdout",
     "output_type": "stream",
     "text": [
      "<class 'sklearn.utils.Bunch'>\n",
      "dict_keys(['data', 'target', 'frame', 'target_names', 'DESCR', 'feature_names', 'filename'])\n"
     ]
    }
   ],
   "source": [
    "print(type(iris))\n",
    "# print(iris.__dir__)\n",
    "print(iris.keys())"
   ]
  },
  {
   "cell_type": "code",
   "execution_count": 12,
   "metadata": {},
   "outputs": [
    {
     "name": "stdout",
     "output_type": "stream",
     "text": [
      "(150, 4) (150,)\n"
     ]
    }
   ],
   "source": [
    "# let's check the shape to know what we are getting\n",
    "print(all_x.shape, all_y.shape)"
   ]
  },
  {
   "cell_type": "code",
   "execution_count": 20,
   "metadata": {},
   "outputs": [
    {
     "name": "stdout",
     "output_type": "stream",
     "text": [
      "(array([50, 51, 52, 53, 54, 55, 56, 57, 58, 59, 60, 61, 62, 63, 64, 65, 66,\n",
      "       67, 68, 69, 70, 71, 72, 73, 74, 75, 76, 77, 78, 79, 80, 81, 82, 83,\n",
      "       84, 85, 86, 87, 88, 89, 90, 91, 92, 93, 94, 95, 96, 97, 98, 99]),)\n",
      "<class 'numpy.ndarray'>\n",
      "[50 51 52 53 54 55 56 57 58 59 60 61 62 63 64 65 66 67 68 69 70 71 72 73\n",
      " 74 75 76 77 78 79 80 81 82 83 84 85 86 87 88 89 90 91 92 93 94 95 96 97\n",
      " 98 99]\n",
      "150\n",
      "50\n",
      "50\n",
      "100\n"
     ]
    }
   ],
   "source": [
    "# We'll use only two classes ('versicolor', 'virginica')\n",
    "class1_idx = 1\n",
    "class2_idx = 2\n",
    "\n",
    "sel_classes = [classes[class1_idx], classes[class2_idx]]\n",
    "\n",
    "\n",
    "versicolor_label = 1\n",
    "virginica_label = 2\n",
    "\n",
    "sel_idx_1 = np.where(all_y == versicolor_label)[0]\n",
    "sel_idx_2 = np.where(all_y == virginica_label)[0]\n",
    "\n",
    "print(np.where(all_y == versicolor_label))\n",
    "print(type(np.where(all_y == versicolor_label)[0]))\n",
    "print(np.where(all_y == versicolor_label)[0])\n",
    "\n",
    "print(len(all_y))\n",
    "print(len(sel_idx_1))\n",
    "print(len(sel_idx_2))\n",
    "\n",
    "sel_idx = np.r_[sel_idx_1, sel_idx_2] # np.r_: row_wise merge\n",
    "# Note: we could use np.hstack((sel_idx_1, sel_idx_2)) instead\n",
    "print(len(sel_idx))\n",
    "\n",
    "sel_x = all_x[sel_idx,:]\n",
    "sel_y = all_y[sel_idx]"
   ]
  },
  {
   "cell_type": "code",
   "execution_count": 21,
   "metadata": {},
   "outputs": [],
   "source": [
    "# and grab only the last two features (i.e., 'petal length', 'petal_width')\n",
    "\n",
    "feature1_idx = 2\n",
    "feature2_idx = 3\n",
    "\n",
    "proc_x = sel_x[:, [feature1_idx, feature2_idx]]\n",
    "proc_y = sel_y"
   ]
  },
  {
   "cell_type": "code",
   "execution_count": 22,
   "metadata": {},
   "outputs": [
    {
     "name": "stdout",
     "output_type": "stream",
     "text": [
      "(100, 2) (100,)\n"
     ]
    }
   ],
   "source": [
    "# recheck the shapes\n",
    "print(proc_x.shape, proc_y.shape)"
   ]
  },
  {
   "cell_type": "code",
   "execution_count": 23,
   "metadata": {},
   "outputs": [],
   "source": [
    "# train - test split\n",
    "from sklearn.model_selection import train_test_split\n",
    "\n",
    "train_x, test_x, train_y, test_y = train_test_split(proc_x, proc_y, train_size=train_prop, test_size=test_prop, \n",
    "                                                        random_state=seed)# set the random state to our seed for reproducibility "
   ]
  },
  {
   "cell_type": "markdown",
   "metadata": {},
   "source": [
    "### let's look at the data"
   ]
  },
  {
   "cell_type": "code",
   "execution_count": 24,
   "metadata": {},
   "outputs": [
    {
     "name": "stdout",
     "output_type": "stream",
     "text": [
      "(80, 2) (80,)\n"
     ]
    }
   ],
   "source": [
    "# first check the shapes\n",
    "print(train_x.shape, train_y.shape)"
   ]
  },
  {
   "cell_type": "code",
   "execution_count": 25,
   "metadata": {},
   "outputs": [
    {
     "data": {
      "text/plain": [
       "array([[6.6, 2.1],\n",
       "       [4.8, 1.8],\n",
       "       [4.8, 1.4]])"
      ]
     },
     "execution_count": 25,
     "metadata": {},
     "output_type": "execute_result"
    }
   ],
   "source": [
    "# what does the (training) data look like?\n",
    "train_x[0:3,:]"
   ]
  },
  {
   "cell_type": "code",
   "execution_count": 26,
   "metadata": {},
   "outputs": [
    {
     "data": {
      "text/plain": [
       "array([2, 2, 1, 1, 2, 1, 1, 2, 1, 2])"
      ]
     },
     "execution_count": 26,
     "metadata": {},
     "output_type": "execute_result"
    }
   ],
   "source": [
    "# what does the data look like?\n",
    "train_y[0:10]"
   ]
  },
  {
   "cell_type": "markdown",
   "metadata": {},
   "source": [
    "### let's train our first model"
   ]
  },
  {
   "cell_type": "code",
   "execution_count": 27,
   "metadata": {},
   "outputs": [],
   "source": [
    "from sklearn.svm import SVC\n",
    "## ref: https://scikit-learn.org/stable/modules/svm.html\n",
    "\n",
    "model = SVC(kernel='linear', random_state=seed).fit(train_x, train_y)"
   ]
  },
  {
   "cell_type": "code",
   "execution_count": 28,
   "metadata": {},
   "outputs": [
    {
     "data": {
      "image/png": "[encoded data removed]",
      "text/plain": [
       "<Figure size 1008x576 with 1 Axes>"
      ]
     },
     "metadata": {
      "needs_background": "light"
     },
     "output_type": "display_data"
    }
   ],
   "source": [
    "# plot to show classifier's decision boundary and training examples\n",
    "title = 'SVM Classifier (with linear kernel)'\n",
    "\n",
    "fig, ax = plt.subplots(figsize=(14,8))\n",
    "\n",
    "X0, X1 = train_x[:, 0], train_x[:, 1]\n",
    "xx, yy = plots.make_meshgrid(X0, X1, h=0.01)\n",
    "\n",
    "plots.contours(ax, model, xx, yy, cmap=plt.cm.coolwarm, alpha=0.75)\n",
    "\n",
    "scatter = ax.scatter(X0, X1, c=train_y, cmap=plt.cm.coolwarm, s=100, linewidth=3, edgecolors='k')\n",
    "\n",
    "ax.set_xlim(xx.min(), xx.max())\n",
    "ax.set_ylim(yy.min(), yy.max())\n",
    "ax.set_xlabel(features[feature1_idx])\n",
    "ax.set_ylabel(features[feature2_idx])\n",
    "ax.set_title(title)\n",
    "\n",
    "handles, labels = scatter.legend_elements()\n",
    "ax.legend(handles, sel_classes, loc=\"upper right\", title=\"Classes\")\n",
    "\n",
    "plt.show()"
   ]
  },
  {
   "cell_type": "markdown",
   "metadata": {},
   "source": [
    "## Now, let's evaluate our model"
   ]
  },
  {
   "cell_type": "code",
   "execution_count": 29,
   "metadata": {},
   "outputs": [
    {
     "name": "stdout",
     "output_type": "stream",
     "text": [
      "Model accuracy: 95.00%\n"
     ]
    }
   ],
   "source": [
    "# make predictions on test set\n",
    "pred_y = model.predict(test_x)\n",
    "\n",
    "# are those prediction correct?\n",
    "from sklearn import metrics\n",
    "\n",
    "acc_score = metrics.accuracy_score(test_y, pred_y)\n",
    "print('Model accuracy: {:.2f}%'.format(acc_score*100))"
   ]
  },
  {
   "cell_type": "markdown",
   "metadata": {},
   "source": [
    "### What about the training data?"
   ]
  },
  {
   "cell_type": "code",
   "execution_count": 30,
   "metadata": {},
   "outputs": [
    {
     "name": "stdout",
     "output_type": "stream",
     "text": [
      "Training accuracy: 96.25%\n"
     ]
    }
   ],
   "source": [
    "# make predictions on *training* set\n",
    "pred_y = model.predict(train_x)\n",
    "\n",
    "acc_score = metrics.accuracy_score(train_y, pred_y)\n",
    "print('Training accuracy: {:.2f}%'.format(acc_score*100))"
   ]
  },
  {
   "cell_type": "markdown",
   "metadata": {},
   "source": [
    "## Q: Is the model overfitted?"
   ]
  },
  {
   "cell_type": "code",
   "execution_count": null,
   "metadata": {},
   "outputs": [],
   "source": []
  },
  {
   "cell_type": "code",
   "execution_count": null,
   "metadata": {},
   "outputs": [],
   "source": []
  }
 ],
 "metadata": {
  "kernelspec": {
   "display_name": "Python 3",
   "language": "python",
   "name": "python3"
  },
  "language_info": {
   "codemirror_mode": {
    "name": "ipython",
    "version": 3
   },
   "file_extension": ".py",
   "mimetype": "text/x-python",
   "name": "python",
   "nbconvert_exporter": "python",
   "pygments_lexer": "ipython3",
   "version": "3.8.3"
  }
 },
 "nbformat": 4,
 "nbformat_minor": 2
}
