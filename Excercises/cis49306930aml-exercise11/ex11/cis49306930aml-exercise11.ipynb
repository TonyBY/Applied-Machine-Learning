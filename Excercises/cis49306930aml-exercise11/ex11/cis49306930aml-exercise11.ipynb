{
 "cells": [
  {
   "cell_type": "markdown",
   "metadata": {},
   "source": [
    "# Exercise 11: Adversarial Examples & Membership Inference"
   ]
  },
  {
   "cell_type": "code",
   "execution_count": 1,
   "metadata": {},
   "outputs": [
    {
     "name": "stdout",
     "output_type": "stream",
     "text": [
      "### Python version: 3.8.5 (default, Sep  4 2020, 07:30:14) \n",
      "[GCC 7.3.0]\n",
      "### Numpy version: 1.19.5\n",
      "### Scikit-learn version: 0.24.1\n",
      "### Tensorflow version: 2.4.1\n",
      "------------\n"
     ]
    }
   ],
   "source": [
    "# Load packages we need\n",
    "import sys\n",
    "import os\n",
    "import datetime\n",
    "\n",
    "import numpy as np\n",
    "import sklearn\n",
    "\n",
    "import scipy as sp\n",
    "import pandas as pd\n",
    "\n",
    "import tensorflow as tf\n",
    "\n",
    "# we'll use tensorflow and keras for neural networks\n",
    "import tensorflow as tf\n",
    "import tensorflow.keras as keras\n",
    "\n",
    "# import layers we may use\n",
    "from tensorflow.keras.layers import Input, Flatten, Reshape, Dense, Conv2D, Conv2DTranspose, MaxPooling2D, Dropout\n",
    "\n",
    "# import callbacks we may use\n",
    "from tensorflow.keras.callbacks import EarlyStopping, ModelCheckpoint, TensorBoard\n",
    "\n",
    "%matplotlib inline\n",
    "from matplotlib import pyplot as plt\n",
    "plt.rcParams.update({'font.size': 20})\n",
    "\n",
    "# Let's check our software versions\n",
    "print('### Python version: ' + sys.version)\n",
    "print('### Numpy version: ' + np.__version__)\n",
    "print('### Scikit-learn version: ' + sklearn.__version__)\n",
    "print('### Tensorflow version: ' + tf.__version__)\n",
    "print('------------')\n",
    "\n",
    "\n",
    "# load our packages / code\n",
    "sys.path.insert(1, '../common/')\n",
    "import utils\n",
    "import plots\n",
    "import nets"
   ]
  },
  {
   "cell_type": "code",
   "execution_count": 2,
   "metadata": {},
   "outputs": [],
   "source": [
    "# global parameters to control behavior of the pre-processing, ML, analysis, etc.\n",
    "seed = 42\n",
    "\n",
    "# deterministic seed for reproducibility\n",
    "np.random.seed(seed)\n",
    "tf.random.set_seed(seed)\n",
    "\n",
    "prop_vec = [24, 2, 2]"
   ]
  },
  {
   "cell_type": "code",
   "execution_count": null,
   "metadata": {},
   "outputs": [],
   "source": []
  },
  {
   "cell_type": "markdown",
   "metadata": {},
   "source": [
    "### Load MNIST data."
   ]
  },
  {
   "cell_type": "code",
   "execution_count": 3,
   "metadata": {},
   "outputs": [
    {
     "data": {
      "text/plain": [
       "((60000, 28, 28), (60000,), (5000, 28, 28), (5000,), (5000, 28, 28), (5000,))"
      ]
     },
     "execution_count": 3,
     "metadata": {},
     "output_type": "execute_result"
    }
   ],
   "source": [
    "# grab the data\n",
    "train_x, train_y, test_x, test_y, val_x, val_y, all_x, all_y = utils.load_preprocess_mnist_data(onehot=False, flatten=False, prop_vec=prop_vec, seed=seed)\n",
    "\n",
    "# sanity check shapes\n",
    "train_x.shape, train_y.shape, test_x.shape, test_y.shape, val_x.shape, val_y.shape"
   ]
  },
  {
   "cell_type": "code",
   "execution_count": 4,
   "metadata": {},
   "outputs": [],
   "source": [
    "# renormalize the data so all pixel values are in the [0,1] range \n",
    "train_x = (train_x / 255.0) \n",
    "test_x = (test_x / 255.0) \n",
    "val_x = (val_x / 255.0)\n",
    "\n",
    "if len(train_x.shape) < 4:\n",
    "    train_x = train_x.reshape(-1, 28, 28, 1)\n",
    "    val_x = val_x.reshape(-1, 28, 28, 1)\n",
    "    test_x = test_x.reshape(-1, 28, 28, 1)"
   ]
  },
  {
   "cell_type": "code",
   "execution_count": null,
   "metadata": {},
   "outputs": [],
   "source": []
  },
  {
   "cell_type": "code",
   "execution_count": 5,
   "metadata": {},
   "outputs": [],
   "source": [
    "def create_compile(input_shape=[28, 28, 1], num_outputs=10, verbose=False):\n",
    "    \n",
    "    name = 'FC'    \n",
    "    model = keras.models.Sequential(name=name)\n",
    "    \n",
    "    model.add(Flatten(name='flatten', input_shape=input_shape))\n",
    "    \n",
    "    model.add(Dense(256, activation='relu', name='fc1'))\n",
    "    model.add(Dropout(0.25, name='dropout1'))\n",
    "    model.add(Dense(128, activation='relu', name='fc2'))\n",
    "    model.add(Dropout(0.25, name='dropout2'))\n",
    "    model.add(Dense(64, activation='relu', name='fc3'))\n",
    "    model.add(Dropout(0.25, name='dropout3'))\n",
    "    \n",
    "    model.add(Dense(num_outputs, activation=\"softmax\", name='output'))\n",
    "    \n",
    "    opt = keras.optimizers.Adam(lr=0.002)\n",
    "    \n",
    "    if verbose:\n",
    "        model.summary()\n",
    "    \n",
    "    model.compile(loss='sparse_categorical_crossentropy', optimizer=opt, metrics=['accuracy'])\n",
    "    \n",
    "    return name, model"
   ]
  },
  {
   "cell_type": "code",
   "execution_count": 6,
   "metadata": {},
   "outputs": [],
   "source": [
    "model_fp = 'mnist.h5'\n",
    "\n",
    "load = os.path.exists(model_fp)\n",
    "\n",
    "if load:\n",
    "    model = keras.models.load_model(model_fp)\n",
    "else:\n",
    "    name, model = create_compile(verbose=True)\n",
    "\n",
    "    early_stop_cb = EarlyStopping(monitor='loss', patience=5, restore_best_weights=True)\n",
    "\n",
    "    max_epochs = 10\n",
    "    batch_size = 32\n",
    "\n",
    "    history = model.fit(train_x, train_y, validation_data=(val_x, val_y), epochs=max_epochs, batch_size=batch_size, \n",
    "                         shuffle=True, callbacks=[early_stop_cb])\n",
    "\n",
    "    # save the model\n",
    "    model.save(model_fp)\n",
    "    \n",
    "model.trainable = False"
   ]
  },
  {
   "cell_type": "code",
   "execution_count": null,
   "metadata": {},
   "outputs": [],
   "source": []
  },
  {
   "cell_type": "code",
   "execution_count": 7,
   "metadata": {},
   "outputs": [],
   "source": [
    "# get predicted label and confidence value for it\n",
    "def pred_label_and_conf(model, x):\n",
    "    preds = model.predict(x)[0]\n",
    "    pred_label = np.argmax(preds)\n",
    "    pred_conf = preds[pred_label]\n",
    "    \n",
    "    return pred_label, pred_conf"
   ]
  },
  {
   "cell_type": "code",
   "execution_count": null,
   "metadata": {},
   "outputs": [],
   "source": []
  },
  {
   "cell_type": "code",
   "execution_count": 8,
   "metadata": {},
   "outputs": [],
   "source": [
    "# for the attack we need to be able to get the gradient of the loss with respect to the input\n",
    "def gradient_of_loss_wrt_input(model, in_x, y_target, num_classes=10):\n",
    "    with tf.GradientTape() as tape:\n",
    "        tape.watch(in_x) # tell the tape to watch in_x\n",
    "        y_pred = model(in_x) # get the prediction on the model\n",
    "        loss = keras.losses.sparse_categorical_crossentropy(y_target, y_pred) # compute the loss\n",
    "        \n",
    "    return tape.gradient(loss, in_x) # gradient of the loss with respect to the input"
   ]
  },
  {
   "cell_type": "code",
   "execution_count": null,
   "metadata": {},
   "outputs": [],
   "source": []
  },
  {
   "cell_type": "code",
   "execution_count": 9,
   "metadata": {},
   "outputs": [],
   "source": [
    "# Implementation of the Fast Gradient Sign Method (FGSM)\n",
    "def do_fgsm(model, in_x, y_target, eps):\n",
    "    grad_vec = gradient_of_loss_wrt_input(model, in_x, y_target)\n",
    "    \n",
    "    perturb = tf.sign(-grad_vec)\n",
    "    adv_x = in_x + eps * perturb\n",
    "    adv_x = tf.clip_by_value(adv_x, 0, 1.0) # clip\n",
    "    \n",
    "    return adv_x, perturb"
   ]
  },
  {
   "cell_type": "code",
   "execution_count": null,
   "metadata": {},
   "outputs": [],
   "source": []
  },
  {
   "cell_type": "markdown",
   "metadata": {},
   "source": [
    "### Let's create some adversarial examples"
   ]
  },
  {
   "cell_type": "code",
   "execution_count": 10,
   "metadata": {},
   "outputs": [
    {
     "name": "stdout",
     "output_type": "stream",
     "text": [
      "Epsilon: 0.001 --- \n"
     ]
    },
    {
     "data": {
      "image/png": "[encoded data removed]",
      "text/plain": [
       "<Figure size 576x216 with 3 Axes>"
      ]
     },
     "metadata": {
      "needs_background": "light"
     },
     "output_type": "display_data"
    },
    {
     "name": "stdout",
     "output_type": "stream",
     "text": [
      "\n",
      "Epsilon: 0.01 --- \n"
     ]
    },
    {
     "data": {
      "image/png": "[encoded data removed]",
      "text/plain": [
       "<Figure size 576x216 with 3 Axes>"
      ]
     },
     "metadata": {
      "needs_background": "light"
     },
     "output_type": "display_data"
    },
    {
     "name": "stdout",
     "output_type": "stream",
     "text": [
      "\n",
      "Epsilon: 0.02 --- \n"
     ]
    },
    {
     "data": {
      "image/png": "[encoded data removed]",
      "text/plain": [
       "<Figure size 576x216 with 3 Axes>"
      ]
     },
     "metadata": {
      "needs_background": "light"
     },
     "output_type": "display_data"
    },
    {
     "name": "stdout",
     "output_type": "stream",
     "text": [
      "\n",
      "Epsilon: 0.05 --- \n"
     ]
    },
    {
     "data": {
      "image/png": "[encoded data removed]",
      "text/plain": [
       "<Figure size 576x216 with 3 Axes>"
      ]
     },
     "metadata": {
      "needs_background": "light"
     },
     "output_type": "display_data"
    },
    {
     "name": "stdout",
     "output_type": "stream",
     "text": [
      "\n",
      "Epsilon: 0.1 --- \n"
     ]
    },
    {
     "data": {
      "image/png": "[encoded data removed]",
      "text/plain": [
       "<Figure size 576x216 with 3 Axes>"
      ]
     },
     "metadata": {
      "needs_background": "light"
     },
     "output_type": "display_data"
    },
    {
     "name": "stdout",
     "output_type": "stream",
     "text": [
      "\n"
     ]
    }
   ],
   "source": [
    "# pick a target\n",
    "target_idx = 0\n",
    "in_x = train_x[target_idx].reshape(1, 28, 28, 1)\n",
    "in_y = train_y[target_idx]\n",
    "\n",
    "_, in_conf = pred_label_and_conf(model, in_x)\n",
    "\n",
    "\n",
    "# max number of iterations to do the attack\n",
    "num_attack_iter = 100\n",
    "\n",
    "# the target label we want the adversarial sample to be classified as\n",
    "target_label = 0\n",
    "\n",
    "# Once we reach this level of confidence we stop\n",
    "conf_exit_early = 0.8\n",
    "\n",
    "eps_vals = [0.001, 0.01, 0.02, 0.05, 0.1]\n",
    "for i, eps in enumerate(eps_vals):\n",
    "    \n",
    "    # prepare the adversarial example\n",
    "    # we need it to be a tensor so we can take the gradient of the loss with respect to it\n",
    "    adv_x = tf.convert_to_tensor(in_x.reshape(1, 28, 28, 1), dtype=tf.float32)\n",
    "    \n",
    "    for i in range(0, num_attack_iter):\n",
    "        # do one step of FGSM\n",
    "        adv_x, _ = do_fgsm(model, adv_x, target_label, eps)\n",
    "        \n",
    "        # check if predicted label is the target\n",
    "        adv_label, adv_conf = pred_label_and_conf(model, adv_x)\n",
    "        \n",
    "        # if so and confidence is above threshold, exit early\n",
    "        if adv_label == target_label and adv_conf > conf_exit_early: \n",
    "            break\n",
    "        \n",
    "    # perturbation is just the difference between the adversarial sample and the starting data point\n",
    "    perturb = adv_x - in_x\n",
    "    \n",
    "    titles = ['Label: {} (conf: {:.3f})'.format(in_y, in_conf), 'Perturbation',\n",
    "              'Label: {} (conf: {:.3f})'.format(adv_label, adv_conf)]\n",
    "    \n",
    "    images = np.r_[in_x, perturb, adv_x]\n",
    "    \n",
    "    # plot images\n",
    "    print('Epsilon: {} --- '.format(eps))\n",
    "    plots.plot_images(images, dim_x=28, dim_y=28, fig_size=(8, 3), titles=titles, titles_fontsize=12)\n",
    "    print()"
   ]
  },
  {
   "cell_type": "code",
   "execution_count": null,
   "metadata": {},
   "outputs": [],
   "source": []
  },
  {
   "cell_type": "markdown",
   "metadata": {},
   "source": [
    "### Can we get transferability?"
   ]
  },
  {
   "cell_type": "markdown",
   "metadata": {},
   "source": [
    "#### Let's train another model wiht the same architecture"
   ]
  },
  {
   "cell_type": "code",
   "execution_count": 11,
   "metadata": {},
   "outputs": [
    {
     "name": "stdout",
     "output_type": "stream",
     "text": [
      "Model: \"FC\"\n",
      "_________________________________________________________________\n",
      "Layer (type)                 Output Shape              Param #   \n",
      "=================================================================\n",
      "flatten (Flatten)            (None, 784)               0         \n",
      "_________________________________________________________________\n",
      "fc1 (Dense)                  (None, 256)               200960    \n",
      "_________________________________________________________________\n",
      "dropout1 (Dropout)           (None, 256)               0         \n",
      "_________________________________________________________________\n",
      "fc2 (Dense)                  (None, 128)               32896     \n",
      "_________________________________________________________________\n",
      "dropout2 (Dropout)           (None, 128)               0         \n",
      "_________________________________________________________________\n",
      "fc3 (Dense)                  (None, 64)                8256      \n",
      "_________________________________________________________________\n",
      "dropout3 (Dropout)           (None, 64)                0         \n",
      "_________________________________________________________________\n",
      "output (Dense)               (None, 10)                650       \n",
      "=================================================================\n",
      "Total params: 242,762\n",
      "Trainable params: 242,762\n",
      "Non-trainable params: 0\n",
      "_________________________________________________________________\n",
      "Epoch 1/20\n",
      "938/938 [==============================] - 3s 3ms/step - loss: 0.5655 - accuracy: 0.8217 - val_loss: 0.1542 - val_accuracy: 0.9554\n",
      "Epoch 2/20\n",
      "938/938 [==============================] - 3s 3ms/step - loss: 0.1756 - accuracy: 0.9506 - val_loss: 0.1076 - val_accuracy: 0.9650\n",
      "Epoch 3/20\n",
      "938/938 [==============================] - 3s 3ms/step - loss: 0.1302 - accuracy: 0.9631 - val_loss: 0.1038 - val_accuracy: 0.9666\n",
      "Epoch 4/20\n",
      "938/938 [==============================] - 3s 3ms/step - loss: 0.1161 - accuracy: 0.9663 - val_loss: 0.0983 - val_accuracy: 0.9710\n",
      "Epoch 5/20\n",
      "938/938 [==============================] - 3s 3ms/step - loss: 0.1088 - accuracy: 0.9693 - val_loss: 0.0887 - val_accuracy: 0.9730\n",
      "Epoch 6/20\n",
      "938/938 [==============================] - 3s 3ms/step - loss: 0.0908 - accuracy: 0.9737 - val_loss: 0.0884 - val_accuracy: 0.9744\n",
      "Epoch 7/20\n",
      "938/938 [==============================] - 3s 3ms/step - loss: 0.0871 - accuracy: 0.9747 - val_loss: 0.0828 - val_accuracy: 0.9756\n",
      "Epoch 8/20\n",
      "938/938 [==============================] - 3s 3ms/step - loss: 0.0766 - accuracy: 0.9777 - val_loss: 0.0859 - val_accuracy: 0.9768\n",
      "Epoch 9/20\n",
      "938/938 [==============================] - 3s 3ms/step - loss: 0.0816 - accuracy: 0.9763 - val_loss: 0.0877 - val_accuracy: 0.9738\n",
      "Epoch 10/20\n",
      "938/938 [==============================] - 3s 3ms/step - loss: 0.0703 - accuracy: 0.9799 - val_loss: 0.0855 - val_accuracy: 0.9744\n",
      "Epoch 11/20\n",
      "938/938 [==============================] - 3s 3ms/step - loss: 0.0690 - accuracy: 0.9790 - val_loss: 0.0843 - val_accuracy: 0.9740\n",
      "Epoch 12/20\n",
      "938/938 [==============================] - 3s 3ms/step - loss: 0.0609 - accuracy: 0.9823 - val_loss: 0.0817 - val_accuracy: 0.9792\n",
      "Epoch 13/20\n",
      "938/938 [==============================] - 3s 3ms/step - loss: 0.0650 - accuracy: 0.9810 - val_loss: 0.0849 - val_accuracy: 0.9772\n",
      "Epoch 14/20\n",
      "938/938 [==============================] - 3s 3ms/step - loss: 0.0570 - accuracy: 0.9841 - val_loss: 0.0740 - val_accuracy: 0.9810\n",
      "Epoch 15/20\n",
      "938/938 [==============================] - 3s 3ms/step - loss: 0.0503 - accuracy: 0.9854 - val_loss: 0.0861 - val_accuracy: 0.9784\n",
      "Epoch 16/20\n",
      "938/938 [==============================] - 3s 3ms/step - loss: 0.0563 - accuracy: 0.9836 - val_loss: 0.0847 - val_accuracy: 0.9780\n",
      "Epoch 17/20\n",
      "938/938 [==============================] - 3s 3ms/step - loss: 0.0482 - accuracy: 0.9866 - val_loss: 0.0911 - val_accuracy: 0.9794\n",
      "Epoch 18/20\n",
      "938/938 [==============================] - 3s 3ms/step - loss: 0.0496 - accuracy: 0.9859 - val_loss: 0.0829 - val_accuracy: 0.9778\n",
      "Epoch 19/20\n",
      "938/938 [==============================] - 3s 3ms/step - loss: 0.0475 - accuracy: 0.9857 - val_loss: 0.0886 - val_accuracy: 0.9802\n",
      "Epoch 20/20\n",
      "938/938 [==============================] - 3s 3ms/step - loss: 0.0493 - accuracy: 0.9853 - val_loss: 0.1018 - val_accuracy: 0.9792\n"
     ]
    }
   ],
   "source": [
    "_, model2 = create_compile(verbose=True)\n",
    "\n",
    "max_epochs = 20\n",
    "batch_size = 64\n",
    "\n",
    "history = model2.fit(train_x, train_y, validation_data=(val_x, val_y), epochs=max_epochs, batch_size=batch_size)"
   ]
  },
  {
   "cell_type": "code",
   "execution_count": null,
   "metadata": {},
   "outputs": [],
   "source": []
  },
  {
   "cell_type": "code",
   "execution_count": 12,
   "metadata": {},
   "outputs": [
    {
     "name": "stdout",
     "output_type": "stream",
     "text": [
      "Model predicted label: 0 -- Confidence: 80.46%\n",
      "Model2 predicted label: 0 -- Confidence: 52.65%\n"
     ]
    }
   ],
   "source": [
    "model2.trainable = False\n",
    "\n",
    "# Compute predicted label and conf on model and model2\n",
    "pred_label, pred_conf = pred_label_and_conf(model, adv_x)\n",
    "\n",
    "print('Model predicted label: {} -- Confidence: {:.2f}%'.format(pred_label, 100.0*pred_conf))\n",
    "\n",
    "pred_label, pred_conf = pred_label_and_conf(model2, adv_x)\n",
    "print('Model2 predicted label: {} -- Confidence: {:.2f}%'.format(pred_label, 100.0*pred_conf))"
   ]
  },
  {
   "cell_type": "code",
   "execution_count": null,
   "metadata": {},
   "outputs": [],
   "source": []
  },
  {
   "cell_type": "code",
   "execution_count": null,
   "metadata": {},
   "outputs": [],
   "source": []
  },
  {
   "cell_type": "markdown",
   "metadata": {},
   "source": [
    "## Privacy attacks"
   ]
  },
  {
   "cell_type": "markdown",
   "metadata": {},
   "source": [
    "### Let's train an overfitted model"
   ]
  },
  {
   "cell_type": "code",
   "execution_count": 13,
   "metadata": {},
   "outputs": [],
   "source": [
    "def create_compile(input_shape=[28, 28, 1], num_outputs=10, verbose=False):\n",
    "    \n",
    "    name = 'FC'    \n",
    "    model = keras.models.Sequential(name=name)\n",
    "    \n",
    "    model.add(Flatten(name='flatten', input_shape=input_shape))\n",
    "    \n",
    "    model.add(Dense(4096, activation='relu', name='fc1'))\n",
    "    \n",
    "    model.add(Dense(num_outputs, activation=\"softmax\", name='output'))\n",
    "    \n",
    "    opt = keras.optimizers.Adam(lr=0.001)\n",
    "    \n",
    "    if verbose:\n",
    "        model.summary()\n",
    "    \n",
    "    model.compile(loss='sparse_categorical_crossentropy', optimizer=opt, metrics=['accuracy'])\n",
    "    \n",
    "    return name, model"
   ]
  },
  {
   "cell_type": "markdown",
   "metadata": {},
   "source": [
    "### We'll train the model only a subset of train_x"
   ]
  },
  {
   "cell_type": "code",
   "execution_count": 14,
   "metadata": {},
   "outputs": [],
   "source": [
    "tr_sz = 500\n",
    "tr_x = train_x[:tr_sz]\n",
    "tr_y = train_y[:tr_sz]\n",
    "\n",
    "# prepare an out set for evaluation\n",
    "out_x = train_x[tr_sz:2*tr_sz]\n",
    "out_y = train_y[tr_sz:2*tr_sz]"
   ]
  },
  {
   "cell_type": "code",
   "execution_count": 15,
   "metadata": {},
   "outputs": [
    {
     "name": "stdout",
     "output_type": "stream",
     "text": [
      "Model: \"FC\"\n",
      "_________________________________________________________________\n",
      "Layer (type)                 Output Shape              Param #   \n",
      "=================================================================\n",
      "flatten (Flatten)            (None, 784)               0         \n",
      "_________________________________________________________________\n",
      "fc1 (Dense)                  (None, 4096)              3215360   \n",
      "_________________________________________________________________\n",
      "output (Dense)               (None, 10)                40970     \n",
      "=================================================================\n",
      "Total params: 3,256,330\n",
      "Trainable params: 3,256,330\n",
      "Non-trainable params: 0\n",
      "_________________________________________________________________\n"
     ]
    }
   ],
   "source": [
    "_, overfitted_model = create_compile(verbose=True)"
   ]
  },
  {
   "cell_type": "code",
   "execution_count": 16,
   "metadata": {},
   "outputs": [
    {
     "name": "stdout",
     "output_type": "stream",
     "text": [
      "Epoch 1/100\n",
      "16/16 [==============================] - 1s 28ms/step - loss: 1.5604 - accuracy: 0.5163 - val_loss: 0.7133 - val_accuracy: 0.7726\n",
      "Epoch 2/100\n",
      "16/16 [==============================] - 0s 21ms/step - loss: 0.3507 - accuracy: 0.8890 - val_loss: 0.4782 - val_accuracy: 0.8590\n",
      "Epoch 3/100\n",
      "16/16 [==============================] - 0s 21ms/step - loss: 0.0983 - accuracy: 0.9914 - val_loss: 0.4956 - val_accuracy: 0.8578\n",
      "Epoch 4/100\n",
      "16/16 [==============================] - 0s 22ms/step - loss: 0.0497 - accuracy: 0.9998 - val_loss: 0.4730 - val_accuracy: 0.8646\n",
      "Epoch 5/100\n",
      "16/16 [==============================] - 0s 21ms/step - loss: 0.0391 - accuracy: 0.9989 - val_loss: 0.5156 - val_accuracy: 0.8594\n",
      "Epoch 6/100\n",
      "16/16 [==============================] - 0s 21ms/step - loss: 0.0291 - accuracy: 0.9955 - val_loss: 0.4612 - val_accuracy: 0.8710\n",
      "Epoch 7/100\n",
      "16/16 [==============================] - 0s 20ms/step - loss: 0.0141 - accuracy: 1.0000 - val_loss: 0.4790 - val_accuracy: 0.8742\n",
      "Epoch 8/100\n",
      "16/16 [==============================] - 0s 20ms/step - loss: 0.0089 - accuracy: 1.0000 - val_loss: 0.4759 - val_accuracy: 0.8756\n",
      "Epoch 9/100\n",
      "16/16 [==============================] - 0s 20ms/step - loss: 0.0077 - accuracy: 1.0000 - val_loss: 0.4876 - val_accuracy: 0.8756\n",
      "Epoch 10/100\n",
      "16/16 [==============================] - 0s 21ms/step - loss: 0.0060 - accuracy: 1.0000 - val_loss: 0.4867 - val_accuracy: 0.8754\n",
      "Epoch 11/100\n",
      "16/16 [==============================] - 0s 22ms/step - loss: 0.0045 - accuracy: 1.0000 - val_loss: 0.4922 - val_accuracy: 0.8746\n",
      "Epoch 12/100\n",
      "16/16 [==============================] - 0s 21ms/step - loss: 0.0041 - accuracy: 1.0000 - val_loss: 0.4991 - val_accuracy: 0.8754\n",
      "Epoch 13/100\n",
      "16/16 [==============================] - 0s 21ms/step - loss: 0.0032 - accuracy: 1.0000 - val_loss: 0.4988 - val_accuracy: 0.8744\n",
      "Epoch 14/100\n",
      "16/16 [==============================] - 0s 21ms/step - loss: 0.0030 - accuracy: 1.0000 - val_loss: 0.5079 - val_accuracy: 0.8754\n",
      "Epoch 15/100\n",
      "16/16 [==============================] - 0s 22ms/step - loss: 0.0026 - accuracy: 1.0000 - val_loss: 0.5091 - val_accuracy: 0.8756\n",
      "Epoch 16/100\n",
      "16/16 [==============================] - 0s 20ms/step - loss: 0.0025 - accuracy: 1.0000 - val_loss: 0.5150 - val_accuracy: 0.8742\n",
      "Epoch 17/100\n",
      "16/16 [==============================] - 0s 22ms/step - loss: 0.0020 - accuracy: 1.0000 - val_loss: 0.5162 - val_accuracy: 0.8748\n",
      "Epoch 18/100\n",
      "16/16 [==============================] - 0s 21ms/step - loss: 0.0017 - accuracy: 1.0000 - val_loss: 0.5190 - val_accuracy: 0.8748\n",
      "Epoch 19/100\n",
      "16/16 [==============================] - 0s 22ms/step - loss: 0.0018 - accuracy: 1.0000 - val_loss: 0.5259 - val_accuracy: 0.8750\n",
      "Epoch 20/100\n",
      "16/16 [==============================] - 0s 22ms/step - loss: 0.0014 - accuracy: 1.0000 - val_loss: 0.5273 - val_accuracy: 0.8746\n",
      "Epoch 21/100\n",
      "16/16 [==============================] - 0s 21ms/step - loss: 0.0013 - accuracy: 1.0000 - val_loss: 0.5294 - val_accuracy: 0.8754\n",
      "Epoch 22/100\n",
      "16/16 [==============================] - 0s 22ms/step - loss: 0.0012 - accuracy: 1.0000 - val_loss: 0.5322 - val_accuracy: 0.8752\n",
      "Epoch 23/100\n",
      "16/16 [==============================] - 0s 21ms/step - loss: 0.0012 - accuracy: 1.0000 - val_loss: 0.5355 - val_accuracy: 0.8750\n",
      "Epoch 24/100\n",
      "16/16 [==============================] - 0s 21ms/step - loss: 9.1695e-04 - accuracy: 1.0000 - val_loss: 0.5405 - val_accuracy: 0.8752\n",
      "Epoch 25/100\n",
      "16/16 [==============================] - 0s 22ms/step - loss: 8.7192e-04 - accuracy: 1.0000 - val_loss: 0.5428 - val_accuracy: 0.8750\n",
      "Epoch 26/100\n",
      "16/16 [==============================] - 0s 21ms/step - loss: 7.7244e-04 - accuracy: 1.0000 - val_loss: 0.5451 - val_accuracy: 0.8750\n",
      "Epoch 27/100\n",
      "16/16 [==============================] - 0s 22ms/step - loss: 7.8035e-04 - accuracy: 1.0000 - val_loss: 0.5480 - val_accuracy: 0.8740\n",
      "Epoch 28/100\n",
      "16/16 [==============================] - 0s 22ms/step - loss: 6.8386e-04 - accuracy: 1.0000 - val_loss: 0.5512 - val_accuracy: 0.8748\n",
      "Epoch 29/100\n",
      "16/16 [==============================] - 0s 22ms/step - loss: 6.8913e-04 - accuracy: 1.0000 - val_loss: 0.5535 - val_accuracy: 0.8736\n",
      "Epoch 30/100\n",
      "16/16 [==============================] - 0s 21ms/step - loss: 6.4533e-04 - accuracy: 1.0000 - val_loss: 0.5553 - val_accuracy: 0.8744\n",
      "Epoch 31/100\n",
      "16/16 [==============================] - 0s 21ms/step - loss: 5.9934e-04 - accuracy: 1.0000 - val_loss: 0.5584 - val_accuracy: 0.8740\n",
      "Epoch 32/100\n",
      "16/16 [==============================] - 0s 21ms/step - loss: 4.9286e-04 - accuracy: 1.0000 - val_loss: 0.5604 - val_accuracy: 0.8748\n",
      "Epoch 33/100\n",
      "16/16 [==============================] - 0s 21ms/step - loss: 4.5681e-04 - accuracy: 1.0000 - val_loss: 0.5640 - val_accuracy: 0.8738\n",
      "Epoch 34/100\n",
      "16/16 [==============================] - 0s 21ms/step - loss: 4.5441e-04 - accuracy: 1.0000 - val_loss: 0.5659 - val_accuracy: 0.8740\n",
      "Epoch 35/100\n",
      "16/16 [==============================] - 0s 21ms/step - loss: 4.3108e-04 - accuracy: 1.0000 - val_loss: 0.5685 - val_accuracy: 0.8740\n",
      "Epoch 36/100\n",
      "16/16 [==============================] - 0s 22ms/step - loss: 4.1273e-04 - accuracy: 1.0000 - val_loss: 0.5699 - val_accuracy: 0.8744\n",
      "Epoch 37/100\n",
      "16/16 [==============================] - 0s 21ms/step - loss: 3.7787e-04 - accuracy: 1.0000 - val_loss: 0.5727 - val_accuracy: 0.8748\n",
      "Epoch 38/100\n",
      "16/16 [==============================] - 0s 21ms/step - loss: 3.7472e-04 - accuracy: 1.0000 - val_loss: 0.5754 - val_accuracy: 0.8738\n",
      "Epoch 39/100\n",
      "16/16 [==============================] - 0s 22ms/step - loss: 3.3015e-04 - accuracy: 1.0000 - val_loss: 0.5770 - val_accuracy: 0.8744\n",
      "Epoch 40/100\n",
      "16/16 [==============================] - 0s 21ms/step - loss: 3.1079e-04 - accuracy: 1.0000 - val_loss: 0.5795 - val_accuracy: 0.8740\n",
      "Epoch 41/100\n",
      "16/16 [==============================] - 0s 21ms/step - loss: 2.9327e-04 - accuracy: 1.0000 - val_loss: 0.5811 - val_accuracy: 0.8748\n",
      "Epoch 42/100\n",
      "16/16 [==============================] - 0s 22ms/step - loss: 2.8024e-04 - accuracy: 1.0000 - val_loss: 0.5830 - val_accuracy: 0.8748\n",
      "Epoch 43/100\n",
      "16/16 [==============================] - 0s 21ms/step - loss: 2.8723e-04 - accuracy: 1.0000 - val_loss: 0.5852 - val_accuracy: 0.8746\n",
      "Epoch 44/100\n",
      "16/16 [==============================] - 0s 22ms/step - loss: 2.2735e-04 - accuracy: 1.0000 - val_loss: 0.5857 - val_accuracy: 0.8748\n",
      "Epoch 45/100\n",
      "16/16 [==============================] - 0s 21ms/step - loss: 2.5822e-04 - accuracy: 1.0000 - val_loss: 0.5889 - val_accuracy: 0.8754\n",
      "Epoch 46/100\n",
      "16/16 [==============================] - 0s 21ms/step - loss: 2.3077e-04 - accuracy: 1.0000 - val_loss: 0.5905 - val_accuracy: 0.8750\n",
      "Epoch 47/100\n",
      "16/16 [==============================] - 0s 20ms/step - loss: 2.2065e-04 - accuracy: 1.0000 - val_loss: 0.5928 - val_accuracy: 0.8756\n",
      "Epoch 48/100\n",
      "16/16 [==============================] - 0s 22ms/step - loss: 1.9993e-04 - accuracy: 1.0000 - val_loss: 0.5951 - val_accuracy: 0.8756\n",
      "Epoch 49/100\n",
      "16/16 [==============================] - 0s 20ms/step - loss: 1.8711e-04 - accuracy: 1.0000 - val_loss: 0.5959 - val_accuracy: 0.8756\n",
      "Epoch 50/100\n",
      "16/16 [==============================] - 0s 22ms/step - loss: 1.8585e-04 - accuracy: 1.0000 - val_loss: 0.5977 - val_accuracy: 0.8758\n",
      "Epoch 51/100\n",
      "16/16 [==============================] - 0s 20ms/step - loss: 1.8125e-04 - accuracy: 1.0000 - val_loss: 0.5985 - val_accuracy: 0.8758\n",
      "Epoch 52/100\n",
      "16/16 [==============================] - 0s 21ms/step - loss: 1.5740e-04 - accuracy: 1.0000 - val_loss: 0.6008 - val_accuracy: 0.8762\n",
      "Epoch 53/100\n",
      "16/16 [==============================] - 0s 21ms/step - loss: 1.4791e-04 - accuracy: 1.0000 - val_loss: 0.6012 - val_accuracy: 0.8766\n",
      "Epoch 54/100\n",
      "16/16 [==============================] - 0s 21ms/step - loss: 1.6090e-04 - accuracy: 1.0000 - val_loss: 0.6043 - val_accuracy: 0.8764\n",
      "Epoch 55/100\n",
      "16/16 [==============================] - 0s 21ms/step - loss: 1.4285e-04 - accuracy: 1.0000 - val_loss: 0.6057 - val_accuracy: 0.8758\n",
      "Epoch 56/100\n",
      "16/16 [==============================] - 0s 21ms/step - loss: 1.4060e-04 - accuracy: 1.0000 - val_loss: 0.6071 - val_accuracy: 0.8764\n",
      "Epoch 57/100\n"
     ]
    },
    {
     "name": "stdout",
     "output_type": "stream",
     "text": [
      "16/16 [==============================] - 0s 22ms/step - loss: 1.3869e-04 - accuracy: 1.0000 - val_loss: 0.6084 - val_accuracy: 0.8758\n",
      "Epoch 58/100\n",
      "16/16 [==============================] - 0s 22ms/step - loss: 1.3246e-04 - accuracy: 1.0000 - val_loss: 0.6101 - val_accuracy: 0.8764\n",
      "Epoch 59/100\n",
      "16/16 [==============================] - 0s 21ms/step - loss: 1.3780e-04 - accuracy: 1.0000 - val_loss: 0.6119 - val_accuracy: 0.8766\n",
      "Epoch 60/100\n",
      "16/16 [==============================] - 0s 22ms/step - loss: 1.0733e-04 - accuracy: 1.0000 - val_loss: 0.6127 - val_accuracy: 0.8766\n",
      "Epoch 61/100\n",
      "16/16 [==============================] - 0s 20ms/step - loss: 1.0921e-04 - accuracy: 1.0000 - val_loss: 0.6140 - val_accuracy: 0.8766\n",
      "Epoch 62/100\n",
      "16/16 [==============================] - 0s 21ms/step - loss: 1.0553e-04 - accuracy: 1.0000 - val_loss: 0.6153 - val_accuracy: 0.8766\n",
      "Epoch 63/100\n",
      "16/16 [==============================] - 0s 20ms/step - loss: 1.1987e-04 - accuracy: 1.0000 - val_loss: 0.6165 - val_accuracy: 0.8770\n",
      "Epoch 64/100\n",
      "16/16 [==============================] - 0s 21ms/step - loss: 1.0460e-04 - accuracy: 1.0000 - val_loss: 0.6180 - val_accuracy: 0.8772\n",
      "Epoch 65/100\n",
      "16/16 [==============================] - 0s 20ms/step - loss: 1.0495e-04 - accuracy: 1.0000 - val_loss: 0.6190 - val_accuracy: 0.8778\n",
      "Epoch 66/100\n",
      "16/16 [==============================] - 0s 21ms/step - loss: 9.0410e-05 - accuracy: 1.0000 - val_loss: 0.6206 - val_accuracy: 0.8772\n",
      "Epoch 67/100\n",
      "16/16 [==============================] - 0s 22ms/step - loss: 8.5690e-05 - accuracy: 1.0000 - val_loss: 0.6215 - val_accuracy: 0.8778\n",
      "Epoch 68/100\n",
      "16/16 [==============================] - 0s 22ms/step - loss: 7.8695e-05 - accuracy: 1.0000 - val_loss: 0.6239 - val_accuracy: 0.8768\n",
      "Epoch 69/100\n",
      "16/16 [==============================] - 0s 21ms/step - loss: 9.0446e-05 - accuracy: 1.0000 - val_loss: 0.6241 - val_accuracy: 0.8772\n",
      "Epoch 70/100\n",
      "16/16 [==============================] - 0s 21ms/step - loss: 8.5269e-05 - accuracy: 1.0000 - val_loss: 0.6263 - val_accuracy: 0.8770\n",
      "Epoch 71/100\n",
      "16/16 [==============================] - 0s 21ms/step - loss: 8.1086e-05 - accuracy: 1.0000 - val_loss: 0.6268 - val_accuracy: 0.8774\n",
      "Epoch 72/100\n",
      "16/16 [==============================] - 0s 21ms/step - loss: 6.5208e-05 - accuracy: 1.0000 - val_loss: 0.6282 - val_accuracy: 0.8774\n",
      "Epoch 73/100\n",
      "16/16 [==============================] - 0s 22ms/step - loss: 7.1850e-05 - accuracy: 1.0000 - val_loss: 0.6294 - val_accuracy: 0.8764\n",
      "Epoch 74/100\n",
      "16/16 [==============================] - 0s 21ms/step - loss: 6.8639e-05 - accuracy: 1.0000 - val_loss: 0.6307 - val_accuracy: 0.8770\n",
      "Epoch 75/100\n",
      "16/16 [==============================] - 0s 21ms/step - loss: 7.6915e-05 - accuracy: 1.0000 - val_loss: 0.6322 - val_accuracy: 0.8770\n",
      "Epoch 76/100\n",
      "16/16 [==============================] - 0s 21ms/step - loss: 6.9776e-05 - accuracy: 1.0000 - val_loss: 0.6333 - val_accuracy: 0.8770\n",
      "Epoch 77/100\n",
      "16/16 [==============================] - 0s 22ms/step - loss: 5.9969e-05 - accuracy: 1.0000 - val_loss: 0.6338 - val_accuracy: 0.8766\n",
      "Epoch 78/100\n",
      "16/16 [==============================] - 0s 21ms/step - loss: 6.2589e-05 - accuracy: 1.0000 - val_loss: 0.6352 - val_accuracy: 0.8770\n",
      "Epoch 79/100\n",
      "16/16 [==============================] - 0s 21ms/step - loss: 6.6833e-05 - accuracy: 1.0000 - val_loss: 0.6365 - val_accuracy: 0.8768\n",
      "Epoch 80/100\n",
      "16/16 [==============================] - 0s 21ms/step - loss: 5.4790e-05 - accuracy: 1.0000 - val_loss: 0.6374 - val_accuracy: 0.8768\n",
      "Epoch 81/100\n",
      "16/16 [==============================] - 0s 22ms/step - loss: 5.6822e-05 - accuracy: 1.0000 - val_loss: 0.6395 - val_accuracy: 0.8768\n",
      "Epoch 82/100\n",
      "16/16 [==============================] - 0s 21ms/step - loss: 5.5596e-05 - accuracy: 1.0000 - val_loss: 0.6390 - val_accuracy: 0.8768\n",
      "Epoch 83/100\n",
      "16/16 [==============================] - 0s 21ms/step - loss: 5.4859e-05 - accuracy: 1.0000 - val_loss: 0.6415 - val_accuracy: 0.8772\n",
      "Epoch 84/100\n",
      "16/16 [==============================] - 0s 21ms/step - loss: 5.2746e-05 - accuracy: 1.0000 - val_loss: 0.6422 - val_accuracy: 0.8768\n",
      "Epoch 85/100\n",
      "16/16 [==============================] - 0s 21ms/step - loss: 5.2028e-05 - accuracy: 1.0000 - val_loss: 0.6433 - val_accuracy: 0.8768\n",
      "Epoch 86/100\n",
      "16/16 [==============================] - 0s 21ms/step - loss: 4.7802e-05 - accuracy: 1.0000 - val_loss: 0.6440 - val_accuracy: 0.8768\n",
      "Epoch 87/100\n",
      "16/16 [==============================] - 0s 20ms/step - loss: 4.8412e-05 - accuracy: 1.0000 - val_loss: 0.6456 - val_accuracy: 0.8770\n",
      "Epoch 88/100\n",
      "16/16 [==============================] - 0s 22ms/step - loss: 4.7724e-05 - accuracy: 1.0000 - val_loss: 0.6468 - val_accuracy: 0.8768\n",
      "Epoch 89/100\n",
      "16/16 [==============================] - 0s 21ms/step - loss: 4.5456e-05 - accuracy: 1.0000 - val_loss: 0.6473 - val_accuracy: 0.8768\n",
      "Epoch 90/100\n",
      "16/16 [==============================] - 0s 22ms/step - loss: 4.6410e-05 - accuracy: 1.0000 - val_loss: 0.6482 - val_accuracy: 0.8762\n",
      "Epoch 91/100\n",
      "16/16 [==============================] - 0s 21ms/step - loss: 4.3513e-05 - accuracy: 1.0000 - val_loss: 0.6495 - val_accuracy: 0.8766\n",
      "Epoch 92/100\n",
      "16/16 [==============================] - 0s 22ms/step - loss: 3.8224e-05 - accuracy: 1.0000 - val_loss: 0.6504 - val_accuracy: 0.8768\n",
      "Epoch 93/100\n",
      "16/16 [==============================] - 0s 22ms/step - loss: 3.9604e-05 - accuracy: 1.0000 - val_loss: 0.6508 - val_accuracy: 0.8768\n",
      "Epoch 94/100\n",
      "16/16 [==============================] - 0s 21ms/step - loss: 4.1758e-05 - accuracy: 1.0000 - val_loss: 0.6521 - val_accuracy: 0.8768\n",
      "Epoch 95/100\n",
      "16/16 [==============================] - 0s 20ms/step - loss: 3.7075e-05 - accuracy: 1.0000 - val_loss: 0.6530 - val_accuracy: 0.8766\n",
      "Epoch 96/100\n",
      "16/16 [==============================] - 0s 21ms/step - loss: 3.5439e-05 - accuracy: 1.0000 - val_loss: 0.6547 - val_accuracy: 0.8764\n",
      "Epoch 97/100\n",
      "16/16 [==============================] - 0s 22ms/step - loss: 3.4941e-05 - accuracy: 1.0000 - val_loss: 0.6548 - val_accuracy: 0.8768\n",
      "Epoch 98/100\n",
      "16/16 [==============================] - 0s 21ms/step - loss: 3.2565e-05 - accuracy: 1.0000 - val_loss: 0.6563 - val_accuracy: 0.8764\n",
      "Epoch 99/100\n",
      "16/16 [==============================] - 0s 22ms/step - loss: 3.0197e-05 - accuracy: 1.0000 - val_loss: 0.6564 - val_accuracy: 0.8766\n",
      "Epoch 100/100\n",
      "16/16 [==============================] - 0s 22ms/step - loss: 3.6662e-05 - accuracy: 1.0000 - val_loss: 0.6577 - val_accuracy: 0.8764\n"
     ]
    }
   ],
   "source": [
    "max_epochs = 100\n",
    "batch_size = 32\n",
    "\n",
    "history = overfitted_model.fit(tr_x, tr_y, validation_data=(val_x, val_y), epochs=max_epochs, batch_size=batch_size)"
   ]
  },
  {
   "cell_type": "code",
   "execution_count": null,
   "metadata": {},
   "outputs": [],
   "source": []
  },
  {
   "cell_type": "markdown",
   "metadata": {},
   "source": [
    "### Let's implement a simple attack"
   ]
  },
  {
   "cell_type": "code",
   "execution_count": 17,
   "metadata": {},
   "outputs": [],
   "source": [
    "def simple_membership_inference_attack(model, targets_x, targets_y, threshold=0.9995):\n",
    "    \n",
    "    preds = model.predict(targets_x)\n",
    "    pred_confs = preds[np.arange(preds.shape[0]), targets_y]\n",
    "    membership_preds = (pred_confs > threshold).astype(int)\n",
    "    \n",
    "    return membership_preds, pred_confs"
   ]
  },
  {
   "cell_type": "code",
   "execution_count": null,
   "metadata": {},
   "outputs": [],
   "source": []
  },
  {
   "cell_type": "code",
   "execution_count": 18,
   "metadata": {},
   "outputs": [
    {
     "name": "stdout",
     "output_type": "stream",
     "text": [
      "Attack accuracy: 70.80%\n"
     ]
    }
   ],
   "source": [
    "# prepare the target sets\n",
    "targets_x = np.r_[tr_x, out_x]\n",
    "targets_y = np.r_[tr_y, out_y]\n",
    "\n",
    "# the true membership status (1 -> in, 0 -> out)\n",
    "membership_true = np.r_[np.ones_like(tr_y), np.zeros_like(out_y)]\n",
    "\n",
    "# perform the attack\n",
    "membership_preds, pred_confs = simple_membership_inference_attack(overfitted_model, targets_x, targets_y)\n",
    "\n",
    "# how accurate is the attack?\n",
    "attack_acc = np.sum(membership_true == membership_preds) / membership_true.shape[0]\n",
    "print('Attack accuracy: {:.2f}%'.format(100.0*attack_acc))"
   ]
  },
  {
   "cell_type": "code",
   "execution_count": null,
   "metadata": {},
   "outputs": [],
   "source": []
  },
  {
   "cell_type": "markdown",
   "metadata": {},
   "source": [
    "### Why does this even work?"
   ]
  },
  {
   "cell_type": "code",
   "execution_count": 19,
   "metadata": {},
   "outputs": [
    {
     "data": {
      "image/png": "[encoded data removed]",
      "text/plain": [
       "<Figure size 864x576 with 1 Axes>"
      ]
     },
     "metadata": {
      "needs_background": "light"
     },
     "output_type": "display_data"
    }
   ],
   "source": [
    "fig = plt.figure(figsize=(12,8))\n",
    "bins = np.linspace(0, 1.0, 30)\n",
    "\n",
    "ax = plt.gca()\n",
    "\n",
    "out_data, bin_edges = np.histogram(pred_confs[membership_true == 0], bins, density=False)\n",
    "in_data, bin_edges = np.histogram(pred_confs[membership_true == 1], bins, density=False)\n",
    "\n",
    "bin_centers = bin_edges[:-1] + (bin_edges[1]-bin_edges[0])/2.0\n",
    "\n",
    "ax.bar(bin_centers, out_data / np.sum(out_data), width=0.025, color='r', alpha=0.5, label='OUT (Non-member)')\n",
    "ax.bar(bin_centers, in_data / np.sum(in_data), width=0.025, color='b', alpha=0.5, label='IN (Member)')\n",
    "\n",
    "ax.set_xlabel('Prediction confidence')\n",
    "ax.set_ylabel('Density')\n",
    "\n",
    "plt.legend()\n",
    "plt.show()"
   ]
  },
  {
   "cell_type": "code",
   "execution_count": null,
   "metadata": {},
   "outputs": [],
   "source": []
  }
 ],
 "metadata": {
  "kernelspec": {
   "display_name": "Python 3",
   "language": "python",
   "name": "python3"
  },
  "language_info": {
   "codemirror_mode": {
    "name": "ipython",
    "version": 3
   },
   "file_extension": ".py",
   "mimetype": "text/x-python",
   "name": "python",
   "nbconvert_exporter": "python",
   "pygments_lexer": "ipython3",
   "version": "3.8.5"
  }
 },
 "nbformat": 4,
 "nbformat_minor": 2
}
