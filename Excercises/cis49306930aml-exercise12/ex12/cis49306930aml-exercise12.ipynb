{
 "cells": [
  {
   "cell_type": "markdown",
   "metadata": {},
   "source": [
    "# Exercise 12: Interpretability"
   ]
  },
  {
   "cell_type": "code",
   "execution_count": 1,
   "metadata": {},
   "outputs": [
    {
     "name": "stdout",
     "output_type": "stream",
     "text": [
      "### Python version: 3.6.9 (default, Oct  8 2020, 12:12:24) \n",
      "[GCC 8.4.0]\n",
      "### Numpy version: 1.18.5\n",
      "### Scikit-learn version: 0.24.0\n",
      "### Tensorflow version: 2.3.1\n",
      "------------\n"
     ]
    }
   ],
   "source": [
    "# Load packages we need\n",
    "import sys\n",
    "import os\n",
    "import datetime\n",
    "\n",
    "import numpy as np\n",
    "import sklearn\n",
    "\n",
    "import scipy as sp\n",
    "import pandas as pd\n",
    "\n",
    "import tensorflow as tf\n",
    "\n",
    "# we'll use tensorflow and keras for neural networks\n",
    "import tensorflow as tf\n",
    "import tensorflow.keras as keras\n",
    "\n",
    "# import layers we may use\n",
    "from tensorflow.keras.layers import Input, Flatten, Reshape, Dense, Conv2D, Conv2DTranspose, MaxPooling2D, Dropout\n",
    "\n",
    "# import callbacks we may use\n",
    "from tensorflow.keras.callbacks import EarlyStopping, ModelCheckpoint, TensorBoard\n",
    "\n",
    "%matplotlib inline\n",
    "from matplotlib import pyplot as plt\n",
    "plt.rcParams.update({'font.size': 20})\n",
    "\n",
    "# Let's check our software versions\n",
    "print('### Python version: ' + sys.version)\n",
    "print('### Numpy version: ' + np.__version__)\n",
    "print('### Scikit-learn version: ' + sklearn.__version__)\n",
    "print('### Tensorflow version: ' + tf.__version__)\n",
    "print('------------')\n",
    "\n",
    "\n",
    "# load our packages / code\n",
    "sys.path.insert(1, '../common/')\n",
    "import utils\n",
    "import plots\n",
    "import nets"
   ]
  },
  {
   "cell_type": "code",
   "execution_count": 2,
   "metadata": {},
   "outputs": [],
   "source": [
    "# global parameters to control behavior of the pre-processing, ML, analysis, etc.\n",
    "seed = 42\n",
    "\n",
    "# deterministic seed for reproducibility\n",
    "np.random.seed(seed)\n",
    "tf.random.set_seed(seed)\n",
    "\n",
    "prop_vec = [24, 2, 2]"
   ]
  },
  {
   "cell_type": "code",
   "execution_count": null,
   "metadata": {},
   "outputs": [],
   "source": []
  },
  {
   "cell_type": "markdown",
   "metadata": {},
   "source": [
    "### Load Fashion-MNIST data."
   ]
  },
  {
   "cell_type": "code",
   "execution_count": 3,
   "metadata": {},
   "outputs": [],
   "source": [
    "from tensorflow.keras.datasets import fashion_mnist\n",
    "def load_preprocess_fashion_mnist(minmax_normalize=True):\n",
    "    \n",
    "    labels = ['top', 'trouser', 'pullover', 'dress', 'coat', 'sandal', 'shirt', 'sneaker', 'bag', 'ankle boot']\n",
    "    train, testval = fashion_mnist.load_data()\n",
    "    \n",
    "    train_x, train_y = train\n",
    "    testval_x, testval_y = testval\n",
    "    \n",
    "    if minmax_normalize:\n",
    "        train_x = train_x / 255.0\n",
    "        testval_x = testval_x / 255.0\n",
    "    \n",
    "    # split test - val\n",
    "    nval = testval_x.shape[0] // 2\n",
    "    \n",
    "    val_x = testval_x[:nval]\n",
    "    val_y = testval_y[:nval]\n",
    "    \n",
    "    test_x = testval_x[nval:]\n",
    "    test_y = testval_y[nval:]\n",
    "    \n",
    "    if len(train_x.shape) < 4:\n",
    "        train_x = train_x.reshape(-1, 28, 28, 1)\n",
    "        val_x = val_x.reshape(-1, 28, 28, 1)\n",
    "        test_x = test_x.reshape(-1, 28, 28, 1)\n",
    "    \n",
    "    return train_x, train_y, test_x, test_y, val_x, val_y, np.array(labels)"
   ]
  },
  {
   "cell_type": "code",
   "execution_count": 4,
   "metadata": {},
   "outputs": [],
   "source": [
    "train_x, train_y, test_x, test_y, val_x, val_y, labels = load_preprocess_fashion_mnist()"
   ]
  },
  {
   "cell_type": "code",
   "execution_count": null,
   "metadata": {},
   "outputs": [],
   "source": []
  },
  {
   "cell_type": "code",
   "execution_count": 5,
   "metadata": {},
   "outputs": [],
   "source": [
    "def create_compile_cnn_interp(input_shape=[28, 28, 1], num_outputs=10, verbose=False):\n",
    "    \n",
    "    name = 'CNN'    \n",
    "    model = keras.models.Sequential(name=name)\n",
    "    \n",
    "    input_layer = Input(shape=input_shape, name='input')\n",
    "    model.add(input_layer)\n",
    "    model.add(Conv2D(32, kernel_size=(7,7), padding='same', activation='relu', name='conv1'))\n",
    "    model.add(MaxPooling2D((2,2), name='maxpool1')) \n",
    "    \n",
    "    model.add(Conv2D(64, kernel_size=(3,3), activation='relu', padding='same', name='conv2'))\n",
    "    model.add(Conv2D(64, kernel_size=(3,3), activation='relu', padding='same', name='conv3'))\n",
    "    model.add(MaxPooling2D(2, name='maxpool2'))\n",
    "    \n",
    "    model.add(Conv2D(128, kernel_size=(3,3), activation='relu', padding='same', name='conv4'))\n",
    "    model.add(Conv2D(128, kernel_size=(3,3), activation='relu', padding='same', name='conv5'))\n",
    "    model.add(MaxPooling2D(2, name='maxpool3'))\n",
    "    \n",
    "    model.add(Flatten(name='flatten'))\n",
    "    \n",
    "    model.add(Dense(128, activation='relu', name='fc1'))\n",
    "    model.add(Dropout(0.5, name='dropout1'))\n",
    "             \n",
    "    model.add(Dense(164, activation='relu', name='fc2'))\n",
    "    model.add(Dropout(0.5, name='dropout2'))\n",
    "    \n",
    "    model.add(Dense(num_outputs, name='linear_output'))\n",
    "    # add activation by itself as last layer\n",
    "    model.add(tf.keras.layers.Activation('softmax'))\n",
    "    \n",
    "    opt = keras.optimizers.Adam(lr=0.002)\n",
    "    \n",
    "    if verbose:\n",
    "        model.summary()\n",
    "        #linear_part.summary()\n",
    "    \n",
    "    model.compile(loss='sparse_categorical_crossentropy', optimizer=opt, metrics=['accuracy'])\n",
    "    \n",
    "    # take the layers of 'model' except the softmax activation as a linear model; we'll use it to compute saliency maps\n",
    "    linear_part = keras.Model(inputs=[input_layer], outputs=[model.get_layer('linear_output').output])\n",
    "    \n",
    "    return name, model, linear_part"
   ]
  },
  {
   "cell_type": "code",
   "execution_count": null,
   "metadata": {},
   "outputs": [],
   "source": []
  },
  {
   "cell_type": "code",
   "execution_count": 6,
   "metadata": {},
   "outputs": [
    {
     "name": "stdout",
     "output_type": "stream",
     "text": [
      "WARNING:tensorflow:No training configuration found in the save file, so the model was *not* compiled. Compile it manually.\n"
     ]
    }
   ],
   "source": [
    "model_fp = 'fmnist.h5'\n",
    "model_linear_fp = 'fmnist-linpart.h5'\n",
    "\n",
    "load = os.path.exists(model_fp)\n",
    "\n",
    "if load:\n",
    "    model = keras.models.load_model(model_fp)\n",
    "    linear_part = keras.models.load_model(model_linear_fp)\n",
    "else:\n",
    "    name, model, linear_part = create_compile_cnn_interp(verbose=True)\n",
    "\n",
    "    early_stop_cb = EarlyStopping(monitor='loss', patience=5, restore_best_weights=True)\n",
    "\n",
    "    max_epochs = 5\n",
    "    batch_size = 256\n",
    "\n",
    "    history = model.fit(train_x, train_y, validation_data=(val_x, val_y), epochs=max_epochs, batch_size=batch_size, callbacks=[early_stop_cb])\n",
    "\n",
    "    # save the model\n",
    "    model.save(model_fp)\n",
    "    linear_part.save(model_linear_fp)\n",
    "    \n",
    "model.trainable = False\n",
    "linear_part.trainable = False"
   ]
  },
  {
   "cell_type": "code",
   "execution_count": null,
   "metadata": {},
   "outputs": [],
   "source": []
  },
  {
   "cell_type": "code",
   "execution_count": 7,
   "metadata": {},
   "outputs": [],
   "source": [
    "# get predicted label and confidence value for it\n",
    "def pred_label_and_conf(model, x):\n",
    "    preds = model.predict(x)[0]\n",
    "    pred_label = np.argmax(preds)\n",
    "    pred_conf = preds[pred_label]\n",
    "    \n",
    "    return pred_label, pred_conf"
   ]
  },
  {
   "cell_type": "code",
   "execution_count": null,
   "metadata": {},
   "outputs": [],
   "source": []
  },
  {
   "cell_type": "code",
   "execution_count": 8,
   "metadata": {},
   "outputs": [],
   "source": [
    "# we want to get the gradient of the logit wrt the input\n",
    "def gradient_wrt_input(linear_part_model, in_x, class_label):\n",
    "    with tf.GradientTape() as tape:\n",
    "        tape.watch(in_x) # tell the tape to watch in_x\n",
    "        y_pred = linear_part_model(in_x) # get the prediction on the linear_part_model\n",
    "        logits = y_pred[:, class_label] # compute the prediction wrt that label (this is the logits)\n",
    "        \n",
    "    return tape.gradient(logits, in_x) # grab the gradient with respect to the input"
   ]
  },
  {
   "cell_type": "code",
   "execution_count": null,
   "metadata": {},
   "outputs": [],
   "source": []
  },
  {
   "cell_type": "code",
   "execution_count": 9,
   "metadata": {},
   "outputs": [],
   "source": [
    "def compute_saliency_map(linear_part_model, in_x, class_label, take_abs=True, eps=1e-14):\n",
    "    \n",
    "    # Grab the gradient vec\n",
    "    grad_vec = gradient_wrt_input(linear_part_model, in_x, class_label)\n",
    "    \n",
    "    # If we have multiple channels then we need to take the maximum across them\n",
    "    grad_vec = tf.reduce_max(grad_vec, axis=-1)\n",
    "    \n",
    "    # convert to numpy\n",
    "    grad_vec_np = grad_vec.numpy()\n",
    "    \n",
    "    if take_abs:\n",
    "        grad_vec_np = np.abs(grad_vec_np)\n",
    "    \n",
    "    # we need to min-max normalize the vector\n",
    "    minv = np.min(grad_vec_np)\n",
    "    maxv = np.max(grad_vec_np)\n",
    "    \n",
    "    # use a small smoothing eps for the calculation\n",
    "    saliency_map = (grad_vec_np - minv) / (maxv - minv + eps)\n",
    "    \n",
    "    return saliency_map"
   ]
  },
  {
   "cell_type": "code",
   "execution_count": null,
   "metadata": {},
   "outputs": [],
   "source": []
  },
  {
   "cell_type": "markdown",
   "metadata": {},
   "source": [
    "### Let's create some explanations using saliency maps"
   ]
  },
  {
   "cell_type": "code",
   "execution_count": 10,
   "metadata": {},
   "outputs": [],
   "source": [
    "def plot_example_with_saliency(model, linear_part, in_x):\n",
    "    \n",
    "    pred_label, in_conf = pred_label_and_conf(model, in_x)\n",
    "\n",
    "    titles = ['Label: {} (conf: {:.3f})'.format(pred_label, in_conf), \n",
    "              'Saliency Map']\n",
    "\n",
    "    # convert in_x to a tensor\n",
    "    in_x_as_tensor = tf.convert_to_tensor(in_x, dtype=tf.float32)\n",
    "\n",
    "    # notice here we use the linear part for this\n",
    "    saliency_map = compute_saliency_map(linear_part, in_x_as_tensor, pred_label)\n",
    "\n",
    "    images = np.r_[in_x.reshape(1, 28, 28), saliency_map.reshape(1, 28, 28)]\n",
    "\n",
    "    plots.plot_images(images, dim_x=28, dim_y=28, fig_size=(8, 3), cmap=['gray', 'jet'], titles=titles, titles_fontsize=12)"
   ]
  },
  {
   "cell_type": "code",
   "execution_count": 11,
   "metadata": {},
   "outputs": [
    {
     "name": "stdout",
     "output_type": "stream",
     "text": [
      "Example 0 - True label: 2 (pullover)\n"
     ]
    },
    {
     "data": {
      "image/png": "[encoded data removed]",
      "text/plain": [
       "<Figure size 576x216 with 2 Axes>"
      ]
     },
     "metadata": {
      "needs_background": "light"
     },
     "output_type": "display_data"
    },
    {
     "name": "stdout",
     "output_type": "stream",
     "text": [
      "Example 1 - True label: 3 (dress)\n"
     ]
    },
    {
     "data": {
      "image/png": "[encoded data removed]",
      "text/plain": [
       "<Figure size 576x216 with 2 Axes>"
      ]
     },
     "metadata": {
      "needs_background": "light"
     },
     "output_type": "display_data"
    },
    {
     "name": "stdout",
     "output_type": "stream",
     "text": [
      "Example 7 - True label: 9 (ankle boot)\n"
     ]
    },
    {
     "data": {
      "image/png": "[encoded data removed]",
      "text/plain": [
       "<Figure size 576x216 with 2 Axes>"
      ]
     },
     "metadata": {
      "needs_background": "light"
     },
     "output_type": "display_data"
    },
    {
     "name": "stdout",
     "output_type": "stream",
     "text": [
      "Example 19 - True label: 9 (ankle boot)\n"
     ]
    },
    {
     "data": {
      "image/png": "[encoded data removed]",
      "text/plain": [
       "<Figure size 576x216 with 2 Axes>"
      ]
     },
     "metadata": {
      "needs_background": "light"
     },
     "output_type": "display_data"
    },
    {
     "name": "stdout",
     "output_type": "stream",
     "text": [
      "Example 89 - True label: 9 (ankle boot)\n"
     ]
    },
    {
     "data": {
      "image/png": "[encoded data removed]",
      "text/plain": [
       "<Figure size 576x216 with 2 Axes>"
      ]
     },
     "metadata": {
      "needs_background": "light"
     },
     "output_type": "display_data"
    }
   ],
   "source": [
    "# show some examples\n",
    "for ex_idx in [0, 1, 7, 19, 89]:\n",
    "    in_x = test_x[ex_idx].reshape(1, 28, 28, 1)\n",
    "    in_y = test_y[ex_idx]\n",
    "    \n",
    "    print('Example {} - True label: {} ({})'.format(ex_idx, in_y, labels[in_y]))\n",
    "    plot_example_with_saliency(model, linear_part, in_x)"
   ]
  },
  {
   "cell_type": "code",
   "execution_count": null,
   "metadata": {},
   "outputs": [],
   "source": []
  },
  {
   "cell_type": "code",
   "execution_count": null,
   "metadata": {},
   "outputs": [],
   "source": []
  },
  {
   "cell_type": "markdown",
   "metadata": {},
   "source": [
    "### See exercise 11 for details"
   ]
  },
  {
   "cell_type": "code",
   "execution_count": 12,
   "metadata": {},
   "outputs": [],
   "source": [
    "# for the attack we need to be able to get the gradient of the loss with respect to the input\n",
    "def gradient_of_loss_wrt_input(model, in_x, y_target, num_classes=10):\n",
    "    with tf.GradientTape() as tape:\n",
    "        tape.watch(in_x) # tell the tape to watch in_x\n",
    "        y_pred = model(in_x) # get the prediction on the model\n",
    "        loss = keras.losses.sparse_categorical_crossentropy(y_target, y_pred) # compute the loss\n",
    "        \n",
    "    return tape.gradient(loss, in_x) # gradient of the loss with respect to the input"
   ]
  },
  {
   "cell_type": "code",
   "execution_count": 13,
   "metadata": {},
   "outputs": [],
   "source": [
    "# Implementation of the Fast Gradient Sign Method (FGSM)\n",
    "def do_fgsm(model, in_x, y_target, eps):\n",
    "    grad_vec = gradient_of_loss_wrt_input(model, in_x, y_target)\n",
    "    \n",
    "    perturb = tf.sign(-grad_vec)\n",
    "    adv_x = in_x + eps * perturb\n",
    "    adv_x = tf.clip_by_value(adv_x, 0, 1.0) # clip\n",
    "    \n",
    "    return adv_x, perturb"
   ]
  },
  {
   "cell_type": "code",
   "execution_count": 15,
   "metadata": {},
   "outputs": [
    {
     "name": "stdout",
     "output_type": "stream",
     "text": [
      "Epsilon: 0.01 --- \n"
     ]
    },
    {
     "data": {
      "image/png": "[encoded data removed]",
      "text/plain": [
       "<Figure size 576x216 with 3 Axes>"
      ]
     },
     "metadata": {
      "needs_background": "light"
     },
     "output_type": "display_data"
    },
    {
     "name": "stdout",
     "output_type": "stream",
     "text": [
      "\n"
     ]
    }
   ],
   "source": [
    "ex_idx = 1\n",
    "in_x = test_x[ex_idx].reshape(-1, 28, 28, 1)\n",
    "in_y = test_y[ex_idx]\n",
    "\n",
    "_, in_conf = pred_label_and_conf(model, in_x)\n",
    "\n",
    "# we need it to be a tensor so we can take the gradient of the loss with respect to it\n",
    "adv_x = tf.convert_to_tensor(in_x.reshape(1, 28, 28, 1), dtype=tf.float32)\n",
    "\n",
    "target_label = 8\n",
    "eps = 0.01\n",
    "conf_exit_early = 0.9\n",
    "num_attack_iter = 100\n",
    "\n",
    "for i in range(0, num_attack_iter):\n",
    "    # do one step of FGSM\n",
    "    adv_x, _ = do_fgsm(model, adv_x, target_label, eps)\n",
    "\n",
    "    # check if predicted label is the target\n",
    "    adv_label, adv_conf = pred_label_and_conf(model, adv_x)\n",
    "\n",
    "    # if so and confidence is above threshold, exit early\n",
    "    if adv_label == target_label and adv_conf > conf_exit_early: \n",
    "        break\n",
    "\n",
    "# perturbation is just the difference between the adversarial sample and the starting data point\n",
    "perturb = adv_x - in_x\n",
    "\n",
    "titles = ['Label: {} (conf: {:.3f})'.format(in_y, in_conf), 'Perturbation',\n",
    "          'Label: {} (conf: {:.3f})'.format(adv_label, adv_conf)]\n",
    "\n",
    "images = np.r_[in_x, perturb, adv_x]\n",
    "\n",
    "# plot images\n",
    "print('Epsilon: {} --- '.format(eps))\n",
    "plots.plot_images(images, dim_x=28, dim_y=28, fig_size=(8, 3), titles=titles, titles_fontsize=12)\n",
    "print()"
   ]
  },
  {
   "cell_type": "code",
   "execution_count": null,
   "metadata": {},
   "outputs": [],
   "source": []
  },
  {
   "cell_type": "code",
   "execution_count": 16,
   "metadata": {},
   "outputs": [
    {
     "name": "stdout",
     "output_type": "stream",
     "text": [
      "Example 1 - True label: 3 (dress)\n"
     ]
    },
    {
     "data": {
      "image/png": "[encoded data removed]",
      "text/plain": [
       "<Figure size 576x216 with 2 Axes>"
      ]
     },
     "metadata": {
      "needs_background": "light"
     },
     "output_type": "display_data"
    },
    {
     "name": "stdout",
     "output_type": "stream",
     "text": [
      "Perturbation - Predicted label: 8 (bag)\n"
     ]
    },
    {
     "data": {
      "image/png": "[encoded data removed]",
      "text/plain": [
       "<Figure size 576x216 with 2 Axes>"
      ]
     },
     "metadata": {
      "needs_background": "light"
     },
     "output_type": "display_data"
    }
   ],
   "source": [
    "print('Example {} - True label: {} ({})'.format(ex_idx, in_y, labels[in_y]))\n",
    "plot_example_with_saliency(model, linear_part, in_x)\n",
    "\n",
    "print('Perturbation - Predicted label: {} ({})'.format(target_label, labels[target_label]))\n",
    "plot_example_with_saliency(model, linear_part, adv_x.numpy())"
   ]
  },
  {
   "cell_type": "code",
   "execution_count": null,
   "metadata": {},
   "outputs": [],
   "source": []
  },
  {
   "cell_type": "markdown",
   "metadata": {},
   "source": [
    "## Note: there are libraries if you want to visualize models decision in the forms of saliency maps etc. For example: https://pypi.org/project/tf-keras-vis/"
   ]
  },
  {
   "cell_type": "code",
   "execution_count": null,
   "metadata": {},
   "outputs": [],
   "source": []
  },
  {
   "cell_type": "code",
   "execution_count": null,
   "metadata": {},
   "outputs": [],
   "source": []
  },
  {
   "cell_type": "code",
   "execution_count": null,
   "metadata": {},
   "outputs": [],
   "source": []
  }
 ],
 "metadata": {
  "kernelspec": {
   "display_name": "Python 3",
   "language": "python",
   "name": "python3"
  },
  "language_info": {
   "codemirror_mode": {
    "name": "ipython",
    "version": 3
   },
   "file_extension": ".py",
   "mimetype": "text/x-python",
   "name": "python",
   "nbconvert_exporter": "python",
   "pygments_lexer": "ipython3",
   "version": "3.6.9"
  }
 },
 "nbformat": 4,
 "nbformat_minor": 2
}
