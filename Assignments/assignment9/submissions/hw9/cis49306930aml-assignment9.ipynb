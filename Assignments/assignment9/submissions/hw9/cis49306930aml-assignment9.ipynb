{
 "cells": [
  {
   "cell_type": "markdown",
   "metadata": {},
   "source": [
    "# Assignment 9: Adversarial Examples"
   ]
  },
  {
   "cell_type": "code",
   "execution_count": null,
   "metadata": {},
   "outputs": [],
   "source": [
    "# enter your name and UFL email address\n",
    "name = 'enter your name'\n",
    "email = 'enter your email'"
   ]
  },
  {
   "cell_type": "code",
   "execution_count": null,
   "metadata": {},
   "outputs": [],
   "source": [
    "if name == 'enter your name' or email == 'enter your email':\n",
    "    assert False, 'Enter your name & email first!'\n",
    "else:\n",
    "    print('Assignment 9 -- name: {}, email: {}\\n'.format(name, email))\n",
    "    \n",
    "    # Load packages we need\n",
    "    import sys\n",
    "    import os\n",
    "    import time\n",
    "\n",
    "    import numpy as np\n",
    "    import sklearn\n",
    "    \n",
    "    # we'll use tensorflow and keras for neural networks\n",
    "    import tensorflow as tf\n",
    "    import tensorflow.keras as keras\n",
    "    \n",
    "    # import layers we may use\n",
    "    from tensorflow.keras.layers import Input, Flatten, Reshape, Dense, Conv2D, Conv2DTranspose, MaxPooling2D, Dropout\n",
    "\n",
    "    # import callbacks we may use\n",
    "    from tensorflow.keras.callbacks import EarlyStopping, ModelCheckpoint, TensorBoard\n",
    "    \n",
    "    # Load the TensorBoard notebook extension\n",
    "    #%load_ext tensorboard\n",
    "\n",
    "    from matplotlib import pyplot as plt\n",
    "    plt.rcParams.update({'font.size': 16})\n",
    "\n",
    "    # Let's check our software versions\n",
    "    print('### Python version: ' + __import__('sys').version)\n",
    "    print('### NumPy version: ' + np.__version__)\n",
    "    print('### Scikit-learn version: ' + sklearn.__version__)\n",
    "    print('### Tensorflow version: ' + tf.__version__)\n",
    "    print('### TF Keras version: ' + keras.__version__)\n",
    "    print('------------')\n",
    "\n",
    "\n",
    "    # load our packages / code\n",
    "    sys.path.insert(1, '../common/')\n",
    "    import utils\n",
    "    import plots\n",
    "    import nets"
   ]
  },
  {
   "cell_type": "code",
   "execution_count": null,
   "metadata": {},
   "outputs": [],
   "source": [
    "# global parameters to control behavior of the pre-processing, ML, analysis, etc.\n",
    "seed = 42\n",
    "\n",
    "# deterministic seed for reproducibility\n",
    "np.random.seed(seed)\n",
    "tf.random.set_seed(seed)\n",
    "\n",
    "prop_vec = [24, 2, 2]"
   ]
  },
  {
   "cell_type": "code",
   "execution_count": null,
   "metadata": {},
   "outputs": [],
   "source": []
  },
  {
   "cell_type": "markdown",
   "metadata": {},
   "source": [
    "## We'll use the Fashion-MNIST data"
   ]
  },
  {
   "cell_type": "code",
   "execution_count": null,
   "metadata": {},
   "outputs": [],
   "source": [
    "from tensorflow.keras.datasets import fashion_mnist\n",
    "def load_preprocess_fashion_mnist(minmax_normalize=True):\n",
    "    \n",
    "    labels = ['top', 'trouser', 'pullover', 'dress', 'coat', 'sandal', 'shirt', 'sneaker', 'bag', 'ankle boot']\n",
    "    train, testval = fashion_mnist.load_data()\n",
    "    \n",
    "    train_x, train_y = train\n",
    "    testval_x, testval_y = testval\n",
    "    \n",
    "    if minmax_normalize:\n",
    "        train_x = train_x / 255.0\n",
    "        testval_x = testval_x / 255.0\n",
    "    \n",
    "    # split test - val\n",
    "    nval = testval_x.shape[0] // 2\n",
    "    \n",
    "    val_x = testval_x[:nval]\n",
    "    val_y = testval_y[:nval]\n",
    "    \n",
    "    test_x = testval_x[nval:]\n",
    "    test_y = testval_y[nval:]\n",
    "    \n",
    "    if len(train_x.shape) < 4:\n",
    "        train_x = train_x.reshape(-1, 28, 28, 1)\n",
    "        val_x = val_x.reshape(-1, 28, 28, 1)\n",
    "        test_x = test_x.reshape(-1, 28, 28, 1)\n",
    "    \n",
    "    return train_x, train_y, test_x, test_y, val_x, val_y, np.array(labels)"
   ]
  },
  {
   "cell_type": "code",
   "execution_count": null,
   "metadata": {},
   "outputs": [],
   "source": [
    "train_x, train_y, test_x, test_y, val_x, val_y, labels = load_preprocess_fashion_mnist()"
   ]
  },
  {
   "cell_type": "markdown",
   "metadata": {},
   "source": [
    "## [Task 1] (20 points) Splitting the data"
   ]
  },
  {
   "cell_type": "markdown",
   "metadata": {},
   "source": [
    "### To simulate an adversary not having access to exactly the same data as the people training the model, we'll split train and val into two disjoint subsets."
   ]
  },
  {
   "cell_type": "markdown",
   "metadata": {},
   "source": [
    "### [Task 1a] (20 points) Complete the implementation below to split the data as instructed."
   ]
  },
  {
   "cell_type": "code",
   "execution_count": null,
   "metadata": {},
   "outputs": [],
   "source": [
    "prop_target = 0.6\n",
    "tr_sz = int(train_x.shape[0] * prop_target)\n",
    "vl_sz = int(val_x.shape[0] * prop_target)\n",
    "\n",
    "### 1. take the first tr_sz records of train_x/y and store that in 'tr_x', 'tr_y'\n",
    "### 2. take the first vl_sz records of val_x/y and store that in 'vl_x', 'vl_y'\n",
    "### 3. take the remaining records (tr_sz, tr_sz + 1, ...) of train_x/y and store that in 'adv_tr_x', 'adv_tr_y'\n",
    "### 4. take the remaining records (vl_sz, vl_sz + 1, ...) of val_x/y and store that in 'adv_vl_x', 'adv_vl_y'\n",
    "\n",
    "###* Put your code here (~8 lines) *###\n",
    "\n",
    "\n",
    "\n",
    "\n",
    "# delete this so we don't accidentally use them\n",
    "del train_x, train_y, val_x, val_y"
   ]
  },
  {
   "cell_type": "code",
   "execution_count": null,
   "metadata": {},
   "outputs": [],
   "source": []
  },
  {
   "cell_type": "markdown",
   "metadata": {},
   "source": [
    "### Let's train the target model (CNN)"
   ]
  },
  {
   "cell_type": "code",
   "execution_count": null,
   "metadata": {},
   "outputs": [],
   "source": [
    "def create_compile_cnn(input_shape=[28, 28, 1], num_outputs=10, verbose=False):\n",
    "    \n",
    "    name = 'Target-CNN'    \n",
    "    model = keras.models.Sequential(name=name)\n",
    "    \n",
    "    model.add(Conv2D(64, kernel_size=(7,7), input_shape=input_shape,\n",
    "                     padding='same', activation='relu', name='conv1'))\n",
    "    model.add(MaxPooling2D((2,2), name='maxpool1')) \n",
    "    \n",
    "    model.add(Conv2D(12, kernel_size=(3,3), activation='relu', padding='same', name='conv2'))\n",
    "    model.add(Conv2D(128, kernel_size=(3,3), activation='relu', padding='same', name='conv3'))\n",
    "    model.add(MaxPooling2D(2, name='maxpool2'))\n",
    "    \n",
    "    model.add(Conv2D(256, kernel_size=(3,3), activation='relu', padding='same', name='conv4'))\n",
    "    model.add(Conv2D(256, kernel_size=(3,3), activation='relu', padding='same', name='conv5'))\n",
    "    model.add(MaxPooling2D(2, name='maxpool3'))\n",
    "    \n",
    "    model.add(Flatten(name='flatten'))\n",
    "    \n",
    "    model.add(Dense(128, activation='relu', name='fc1'))\n",
    "    model.add(Dropout(0.5, name='dropout1'))\n",
    "    model.add(Dense(64, activation='relu', name='fc2'))\n",
    "    model.add(Dropout(0.5, name='dropout2'))\n",
    "    \n",
    "    model.add(Dense(num_outputs, activation=\"softmax\", name='output'))\n",
    "    \n",
    "    opt = keras.optimizers.Adam(lr=0.002)\n",
    "    \n",
    "    if verbose:\n",
    "        model.summary()\n",
    "    \n",
    "    model.compile(loss='sparse_categorical_crossentropy', optimizer=opt, metrics=['accuracy'])\n",
    "    \n",
    "    return name, model"
   ]
  },
  {
   "cell_type": "markdown",
   "metadata": {},
   "source": [
    "### Train the target model (or load it)\n",
    "#### To save time, you can use the provided model file."
   ]
  },
  {
   "cell_type": "code",
   "execution_count": null,
   "metadata": {},
   "outputs": [],
   "source": [
    "target_model_fp = 'target-fashion-MNIST-CNN.h5'\n",
    "load = os.path.exists(target_model_fp)\n",
    "\n",
    "if load:\n",
    "    target_model = tf.keras.models.load_model(target_model_fp)\n",
    "else:\n",
    "    _, target_model = create_compile_cnn(verbose=True)\n",
    "\n",
    "    early_stop_cb = EarlyStopping(monitor='loss', patience=5, restore_best_weights=True)\n",
    "\n",
    "    max_epochs = 10\n",
    "    batch_size = 64\n",
    "\n",
    "    history = target_model.fit(tr_x, tr_y, validation_data=(vl_x, vl_y), epochs=max_epochs, batch_size=batch_size, \n",
    "                         shuffle=True, callbacks=[early_stop_cb])\n",
    "\n",
    "    # save the model\n",
    "    target_model.save(target_model_fp)"
   ]
  },
  {
   "cell_type": "code",
   "execution_count": null,
   "metadata": {},
   "outputs": [],
   "source": []
  },
  {
   "cell_type": "markdown",
   "metadata": {},
   "source": [
    "## [Task 2] (30 points) Code for untargeted aversarial examples"
   ]
  },
  {
   "cell_type": "markdown",
   "metadata": {},
   "source": [
    "### [Task 2a] (5 points) Set the target model to be non-trainable (so we don't accidentally update the weights)"
   ]
  },
  {
   "cell_type": "code",
   "execution_count": null,
   "metadata": {},
   "outputs": [],
   "source": [
    "### make sure the target model is not trainable\n",
    "###* Put your code here (~1 line) *###\n"
   ]
  },
  {
   "cell_type": "code",
   "execution_count": null,
   "metadata": {},
   "outputs": [],
   "source": []
  },
  {
   "cell_type": "markdown",
   "metadata": {},
   "source": [
    "### Let's set up some code for the attack"
   ]
  },
  {
   "cell_type": "code",
   "execution_count": null,
   "metadata": {},
   "outputs": [],
   "source": [
    "# get predicted label and confidence value for it\n",
    "def pred_label_and_conf(model, x):\n",
    "    preds = model.predict(x)[0]\n",
    "    pred_label = np.argmax(preds)\n",
    "    pred_conf = preds[pred_label]\n",
    "    \n",
    "    return pred_label, pred_conf"
   ]
  },
  {
   "cell_type": "markdown",
   "metadata": {},
   "source": [
    "### [Task 2b] (5 points) Fill in the implementation of gradient_of_loss_wrt_input()"
   ]
  },
  {
   "cell_type": "code",
   "execution_count": null,
   "metadata": {},
   "outputs": [],
   "source": [
    "# this should return the gradient of the loss (sparse categorical crossentropy with y_target) with respect to 'in_x'\n",
    "# you should use gradient tape and return the gradient from the tape\n",
    "def gradient_of_loss_wrt_input(model, in_x, y_target):\n",
    "    ###* Put your code here (~5 lines) *###\n",
    "    "
   ]
  },
  {
   "cell_type": "code",
   "execution_count": null,
   "metadata": {},
   "outputs": [],
   "source": []
  },
  {
   "cell_type": "markdown",
   "metadata": {},
   "source": [
    "### [Task 2c] (20 points) Fill in the implementation of fgsm_untargeted()."
   ]
  },
  {
   "cell_type": "markdown",
   "metadata": {},
   "source": [
    "#### Note: in exercise 11 we implemented the targeted version of this attack (i.e., we wanted the adversarial example to be classified as the target label). Here, we want the untargeted version (i.e., we just want the adversarial example to have a different predicted label than 'in_y'). "
   ]
  },
  {
   "cell_type": "code",
   "execution_count": null,
   "metadata": {},
   "outputs": [],
   "source": [
    "# Implement the Fast Gradient Sign Method (FGSM) for untargetted perturbations\n",
    "def fgsm_untargeted(model, in_x, in_y, eps):\n",
    "    ### Use gradient_of_loss_wrt_input() to get the gradient vector\n",
    "    ### Then calculate a perturbation (using the sign of the gradient) to increase the loss on 'in_x' for the *true* label ('in_y') \n",
    "    ### Finally add that perturbation scaled by eps to the input image and clip it so it results in a valid image ('adv_x')\n",
    "    ###* Put your code here (~3-4 lines) *###\n",
    "\n",
    "    \n",
    "    return adv_x"
   ]
  },
  {
   "cell_type": "code",
   "execution_count": null,
   "metadata": {},
   "outputs": [],
   "source": []
  },
  {
   "cell_type": "markdown",
   "metadata": {},
   "source": [
    "### Plotting code"
   ]
  },
  {
   "cell_type": "code",
   "execution_count": null,
   "metadata": {},
   "outputs": [],
   "source": [
    "def plot_adversarial_example(model, orig_x, adv_x):\n",
    "    perturb = adv_x - orig_x\n",
    "    \n",
    "    in_label, in_conf = pred_label_and_conf(model, orig_x)\n",
    "\n",
    "    adv_label, adv_conf = pred_label_and_conf(model, adv_x)\n",
    "    \n",
    "    titles = ['Label: {} (conf: {:.3f})'.format(in_label, in_conf), 'Perturbation',\n",
    "              'Label: {} (conf: {:.3f})'.format(adv_label, adv_conf)]\n",
    "    \n",
    "    images = np.r_[orig_x, perturb, adv_x]\n",
    "    \n",
    "    # plot images\n",
    "    plots.plot_images(images, dim_x=28, dim_y=28, fig_size=(8,3), titles=titles, titles_fontsize=12)"
   ]
  },
  {
   "cell_type": "code",
   "execution_count": null,
   "metadata": {},
   "outputs": [],
   "source": []
  },
  {
   "cell_type": "markdown",
   "metadata": {},
   "source": [
    "## [Task 3] (35 points) Producing adversarial examples"
   ]
  },
  {
   "cell_type": "code",
   "execution_count": null,
   "metadata": {},
   "outputs": [],
   "source": [
    "# Take the first example of test\n",
    "in_x = test_x[0].reshape(-1, 28, 28, 1)\n",
    "in_y = test_y[0]\n",
    "\n",
    "in_pred, in_conf = pred_label_and_conf(target_model, in_x)\n",
    "print('Last test example -> true label: {}, pred label: {} [confidence: {:.2f}%]'.format(in_y, in_pred, 100*in_conf))"
   ]
  },
  {
   "cell_type": "markdown",
   "metadata": {},
   "source": [
    "### [Task 3a] (5 points) Complete the implementation below to split to produce an adversarial example using one step of untargeted FGSM."
   ]
  },
  {
   "cell_type": "code",
   "execution_count": null,
   "metadata": {},
   "outputs": [],
   "source": [
    "eps = 0.1\n",
    "\n",
    "### Use fgsm_untargeted() on the target model to create an adversarial example for in_x/y. Call it 'adv_x'\n",
    "###* Put your code here (~2-3 lines) *###\n",
    "\n",
    "\n",
    "\n",
    "\n",
    "# plot the adversarial example\n",
    "plot_adversarial_example(target_model, in_x, adv_x)"
   ]
  },
  {
   "cell_type": "markdown",
   "metadata": {},
   "source": [
    "### [Task 3b] (10 points) What is the predicted class label and confidence? Does the perturbation make the adversarial image look different to you?"
   ]
  },
  {
   "cell_type": "code",
   "execution_count": null,
   "metadata": {},
   "outputs": [],
   "source": [
    "###* put your answer here *###\n",
    "#\n",
    "# \n",
    "#\n",
    "#"
   ]
  },
  {
   "cell_type": "code",
   "execution_count": null,
   "metadata": {},
   "outputs": [],
   "source": []
  },
  {
   "cell_type": "markdown",
   "metadata": {},
   "source": [
    "### [Task 3c] (5 points) Complete the implementation of the stop function."
   ]
  },
  {
   "cell_type": "code",
   "execution_count": null,
   "metadata": {},
   "outputs": [],
   "source": [
    "# return True if:\n",
    "# the maximum number of iteration is reached \n",
    "# or if the adversarial label is different from the original label and confidence is above the threshold\n",
    "# otherwise return False\n",
    "def stop_fn(i, adv_x, orig_label, adv_label, adv_conf, max_iter, threshold):\n",
    "    ####* put your code here (~1-3 lines) *###\n",
    "    "
   ]
  },
  {
   "cell_type": "code",
   "execution_count": null,
   "metadata": {},
   "outputs": [],
   "source": [
    "def iterative_fgsm_untargeted(model, in_x, in_y, eps, stop_fn):\n",
    "    adv_x = tf.convert_to_tensor(in_x, dtype=tf.float32) # convert to tensor\n",
    "\n",
    "    i = 0\n",
    "    while True:\n",
    "        # do one step of FGSM\n",
    "        adv_x = fgsm_untargeted(model, adv_x, in_y, eps)\n",
    "\n",
    "        # check if predicted label is the target\n",
    "        adv_label, adv_conf = pred_label_and_conf(model, adv_x)\n",
    "\n",
    "        # call the stop_fn and exit if needed\n",
    "        if stop_fn(i, adv_x, in_y, adv_label, adv_conf):\n",
    "            break\n",
    "        \n",
    "        # don't forget to increment i\n",
    "        i += 1\n",
    "            \n",
    "    return adv_x"
   ]
  },
  {
   "cell_type": "markdown",
   "metadata": {},
   "source": [
    "### Adversarial example on iterated FGSM"
   ]
  },
  {
   "cell_type": "code",
   "execution_count": null,
   "metadata": {},
   "outputs": [],
   "source": [
    "# Take the first example of test\n",
    "in_x = test_x[0].reshape(-1, 28, 28, 1)\n",
    "in_y = test_y[0]\n",
    "\n",
    "# use a smaller epsilon...\n",
    "eps = 0.005\n",
    "\n",
    "the_stop_fn = lambda i, ax, ol, al, ac: stop_fn(i, ax, ol, al, ac, 200, 0.9)\n",
    "adv_x = iterative_fgsm_untargeted(target_model, in_x, in_y, eps, the_stop_fn)\n",
    "\n",
    "# plot the adversarial example\n",
    "plot_adversarial_example(target_model, in_x, adv_x)"
   ]
  },
  {
   "cell_type": "markdown",
   "metadata": {},
   "source": [
    "### [Task 3d] (5 points) Did the attack work? What is the predicted label and confidence?"
   ]
  },
  {
   "cell_type": "code",
   "execution_count": null,
   "metadata": {},
   "outputs": [],
   "source": [
    "###* put your answer here *###\n",
    "#\n",
    "# \n",
    "#\n",
    "#"
   ]
  },
  {
   "cell_type": "code",
   "execution_count": null,
   "metadata": {},
   "outputs": [],
   "source": []
  },
  {
   "cell_type": "markdown",
   "metadata": {},
   "source": [
    "### For the rest of this task, we will simulate the case where the adversary does not have access to the target model. So he must train a substitute model (of a similar but different architecture) on a different subset of the data. Then the adversary will use the substitute model to craft adversarial examples."
   ]
  },
  {
   "cell_type": "code",
   "execution_count": null,
   "metadata": {},
   "outputs": [],
   "source": [
    "def create_compile_substitute_cnn(input_shape=[28, 28, 1], num_outputs=10, verbose=False):\n",
    "    \n",
    "    name = 'Substitute-CNN'    \n",
    "    model = keras.models.Sequential(name=name)\n",
    "    \n",
    "    model.add(Conv2D(32, kernel_size=(7,7), input_shape=input_shape,\n",
    "                     padding='same', activation='relu', name='conv1'))\n",
    "    model.add(MaxPooling2D((2,2), name='maxpool1')) \n",
    "    \n",
    "    model.add(Conv2D(64, kernel_size=(3,3), activation='relu', padding='same', name='conv2'))\n",
    "    model.add(MaxPooling2D(2, name='maxpool2'))\n",
    "    \n",
    "    model.add(Conv2D(128, kernel_size=(3,3), activation='relu', padding='same', name='conv3'))\n",
    "    model.add(MaxPooling2D(2, name='maxpool3'))\n",
    "    \n",
    "    model.add(Flatten(name='flatten'))\n",
    "    \n",
    "    model.add(Dense(196, activation='relu', name='fc1'))\n",
    "    model.add(Dropout(0.5, name='dropout1'))\n",
    "    model.add(Dense(96, activation='relu', name='fc2'))\n",
    "    model.add(Dropout(0.5, name='dropout2'))\n",
    "    \n",
    "    model.add(Dense(num_outputs, activation=\"softmax\", name='output'))\n",
    "    \n",
    "    opt = keras.optimizers.Adam(lr=0.002)\n",
    "    \n",
    "    if verbose:\n",
    "        model.summary()\n",
    "    \n",
    "    model.compile(loss='sparse_categorical_crossentropy', optimizer=opt, metrics=['accuracy'])\n",
    "    \n",
    "    return name, model"
   ]
  },
  {
   "cell_type": "markdown",
   "metadata": {},
   "source": [
    "### Let's train the substitute model (sub_model). Notice that the training data is 'adv_tr_x'/'adv_tr_y'.\n",
    "\n",
    "#### To save time, you can use the provided model file."
   ]
  },
  {
   "cell_type": "code",
   "execution_count": null,
   "metadata": {},
   "outputs": [],
   "source": [
    "sub_model_fp = 'substitute-fashion-MNIST-CNN.h5'\n",
    "load = os.path.exists(sub_model_fp)\n",
    "\n",
    "if load:\n",
    "    sub_model = tf.keras.models.load_model(sub_model_fp)\n",
    "else:\n",
    "    _, sub_model = create_compile_substitute_cnn(verbose=True)\n",
    "\n",
    "    early_stop_cb = EarlyStopping(monitor='loss', patience=5, restore_best_weights=True)\n",
    "\n",
    "    max_epochs = 10\n",
    "    batch_size = 32\n",
    "\n",
    "    history = sub_model.fit(adv_tr_x, adv_tr_y, validation_data=(adv_vl_x, adv_vl_y), epochs=max_epochs, batch_size=batch_size, \n",
    "                         shuffle=True, callbacks=[early_stop_cb])\n",
    "\n",
    "    # save the model\n",
    "    sub_model.save(sub_model_fp)\n",
    "\n",
    "sub_model.trainable = False"
   ]
  },
  {
   "cell_type": "code",
   "execution_count": null,
   "metadata": {},
   "outputs": [],
   "source": []
  },
  {
   "cell_type": "markdown",
   "metadata": {},
   "source": [
    "### [Task 3e] (5 points) Complete the implement of the attack below."
   ]
  },
  {
   "cell_type": "code",
   "execution_count": null,
   "metadata": {},
   "outputs": [],
   "source": [
    "# Take the first example of test\n",
    "in_x = test_x[0].reshape(-1, 28, 28, 1)\n",
    "in_y = test_y[0]\n",
    "\n",
    "eps = 0.03\n",
    "\n",
    "### Use iterative_fgsm_untargeted on the *substitute model* to create an adversarial example for in_x/y. \n",
    "### Call it 'adv_x'. We will then check if this adversarial example transfers.\n",
    "### Use max_iter=200 and conf_threshold=0.95\n",
    "###* Put your code here (~1-2 lines) *###\n",
    "\n",
    "\n",
    "\n",
    "# Let's look at the adversarial example and the perturbation\n",
    "print('--- Substitute Model ---')\n",
    "plot_adversarial_example(sub_model, in_x, adv_x)\n",
    "print('--- Target Model ---')\n",
    "plot_adversarial_example(target_model, in_x, adv_x)"
   ]
  },
  {
   "cell_type": "code",
   "execution_count": null,
   "metadata": {},
   "outputs": [],
   "source": []
  },
  {
   "cell_type": "markdown",
   "metadata": {},
   "source": [
    "### [Task 3f] (5 points) Did the attack work? Did your adversarial example successfully transfer? (Justify your answer.)"
   ]
  },
  {
   "cell_type": "code",
   "execution_count": null,
   "metadata": {},
   "outputs": [],
   "source": [
    "###* put your answer here *###\n",
    "#\n",
    "# \n",
    "#\n",
    "#"
   ]
  },
  {
   "cell_type": "code",
   "execution_count": null,
   "metadata": {},
   "outputs": [],
   "source": []
  },
  {
   "cell_type": "markdown",
   "metadata": {},
   "source": [
    "## [Task 4] (15 points) Creating noise that looks like a specific class to the target model."
   ]
  },
  {
   "cell_type": "markdown",
   "metadata": {},
   "source": [
    "### [Task 4a] (5 points) Produce images with uniformly random pixel values in [0,1]. Store the result in 'noise_x'."
   ]
  },
  {
   "cell_type": "code",
   "execution_count": null,
   "metadata": {},
   "outputs": [],
   "source": [
    "num_samples = 64\n",
    "\n",
    "### Sample 'num_samples' random noise 'images' and store this in 'noise_x'. \n",
    "### The shape of each image should be identitical to those in tr_x, vl_x, test_x, etc...\n",
    "###* Put your code here (~1-2 lines) *###\n"
   ]
  },
  {
   "cell_type": "code",
   "execution_count": null,
   "metadata": {},
   "outputs": [],
   "source": [
    "titles = labels[np.argmax(target_model.predict(noise_x), axis=1)]\n",
    "plots.plot_images(noise_x[:num_samples].reshape(-1, 28, 28), dim_x=28, dim_y=28, fig_size=(13,13), titles=titles)"
   ]
  },
  {
   "cell_type": "markdown",
   "metadata": {},
   "source": [
    "### [Task 4b] (5 points) What is the most common label? Is that expected?"
   ]
  },
  {
   "cell_type": "code",
   "execution_count": null,
   "metadata": {},
   "outputs": [],
   "source": [
    "###* put your answer here *###\n",
    "#\n",
    "# \n",
    "#\n",
    "#"
   ]
  },
  {
   "cell_type": "code",
   "execution_count": null,
   "metadata": {},
   "outputs": [],
   "source": []
  },
  {
   "cell_type": "markdown",
   "metadata": {},
   "source": [
    "### [Task 4c] (5 points) Implement move_towards_class()."
   ]
  },
  {
   "cell_type": "code",
   "execution_count": null,
   "metadata": {},
   "outputs": [],
   "source": [
    "def move_towards_class(model, in_x, target_label, eps):\n",
    "    ### Take a step the direction of target label. Clip the result so you output a valid image ('out_x')\n",
    "    ###* Put your code here (~3-5 lines) *###\n",
    "\n",
    "    \n",
    "    return out_x"
   ]
  },
  {
   "cell_type": "code",
   "execution_count": null,
   "metadata": {},
   "outputs": [],
   "source": [
    "max_iter = 100\n",
    "eps = 0.06\n",
    "target_label = 0\n",
    "\n",
    "print('Taking steps towards label {} ({})'.format(target_label, labels[target_label]))\n",
    "\n",
    "# initialize output\n",
    "output_x = np.zeros_like(noise_x)\n",
    "for i, in_x in enumerate(noise_x):\n",
    "    \n",
    "    # we need it to be a tensor so we can take the gradient of the loss with respect to it\n",
    "    adv_x = tf.convert_to_tensor(in_x.reshape(1, 28, 28, 1), dtype=tf.float32)\n",
    "\n",
    "    for j in range(0, max_iter):\n",
    "        # move one step\n",
    "        adv_x = move_towards_class(target_model, adv_x, target_label, eps)\n",
    "        \n",
    "        # check if predicted label is the target\n",
    "        adv_label, adv_conf = pred_label_and_conf(target_model, adv_x)\n",
    "        \n",
    "        if adv_label == target_label:\n",
    "            break\n",
    "    \n",
    "    output_x[i] = adv_x"
   ]
  },
  {
   "cell_type": "code",
   "execution_count": null,
   "metadata": {},
   "outputs": [],
   "source": [
    "titles = labels[np.argmax(target_model.predict(output_x), axis=1)]\n",
    "plots.plot_images(output_x[:num_samples].reshape(-1, 28, 28), dim_x=28, dim_y=28, fig_size=(13,13), titles=titles)"
   ]
  },
  {
   "cell_type": "code",
   "execution_count": null,
   "metadata": {},
   "outputs": [],
   "source": []
  },
  {
   "cell_type": "code",
   "execution_count": null,
   "metadata": {},
   "outputs": [],
   "source": []
  },
  {
   "cell_type": "markdown",
   "metadata": {},
   "source": [
    "## [CIS6930 Additional Task -- Task 5] (25 points): Single Pixel Attack"
   ]
  },
  {
   "cell_type": "markdown",
   "metadata": {},
   "source": [
    "### For this task, you will implement a single pixel adversarial example attack. Specifically, this is an iterative that modifies a single pixel of an image at each iteration until the resulting perturbed image is classified as desired by the target model."
   ]
  },
  {
   "cell_type": "markdown",
   "metadata": {},
   "source": [
    "### [Task 5a] (25 points) Fill in the implementation below of single_pixel_attack_step() and iterative_single_pixel_attack()"
   ]
  },
  {
   "cell_type": "code",
   "execution_count": null,
   "metadata": {},
   "outputs": [],
   "source": [
    "# Single pixel attack\n",
    "def single_pixel_attack_step(model, in_x, target_y, eps):\n",
    "    ### Use gradient_of_loss_wrt_input() to get the gradient vector\n",
    "    ### Then figure out the pixel which would have the greatest impact and perturb this pixel only (scaled by eps)\n",
    "    ### Clip the result so you get a valid image\n",
    "    ###* Put your code here (~3-4 lines) *###\n",
    "    \n",
    "    \n",
    "\n",
    "def iterative_single_pixel_attack(model, in_x, target_y, eps, max_iter=25, conf_threshold=0.7):\n",
    "    adv_x = tf.convert_to_tensor(in_x, dtype=tf.float32)\n",
    "    \n",
    "    ### In a loop of at most 'max_iter' iterations, use single_pixel_attack_step() to produce a perturbation\n",
    "    ### In each iteration, get the predicted label of the current adversarial image and confidence\n",
    "    ### if the predicted label matches the target ('target_y') and the confidence is above the \n",
    "    ### threshold ('conf_threshold') your attack should exit.\n",
    "    ### This function should return the adversarial image 'adv_x'\n",
    "    ###* Put your code here (~4-6 lines) *###\n",
    "\n",
    "            \n",
    "    return adv_x"
   ]
  },
  {
   "cell_type": "code",
   "execution_count": null,
   "metadata": {},
   "outputs": [],
   "source": [
    "target_y = 4\n",
    "eps = 0.12\n",
    "\n",
    "### Take the first example of test\n",
    "in_x = test_x[0].reshape(-1, 28, 28, 1)\n",
    "in_y = test_y[0]\n",
    "\n",
    "# run the attack\n",
    "adv_x = iterative_single_pixel_attack(target_model, in_x, target_y, eps)\n",
    "\n",
    "# plot the result\n",
    "plot_adversarial_example(target_model, in_x, adv_x)"
   ]
  },
  {
   "cell_type": "code",
   "execution_count": null,
   "metadata": {},
   "outputs": [],
   "source": []
  },
  {
   "cell_type": "code",
   "execution_count": null,
   "metadata": {},
   "outputs": [],
   "source": []
  },
  {
   "cell_type": "code",
   "execution_count": null,
   "metadata": {},
   "outputs": [],
   "source": []
  },
  {
   "cell_type": "code",
   "execution_count": null,
   "metadata": {},
   "outputs": [],
   "source": []
  },
  {
   "cell_type": "code",
   "execution_count": null,
   "metadata": {},
   "outputs": [],
   "source": []
  }
 ],
 "metadata": {
  "kernelspec": {
   "display_name": "Python 3",
   "language": "python",
   "name": "python3"
  },
  "language_info": {
   "codemirror_mode": {
    "name": "ipython",
    "version": 3
   },
   "file_extension": ".py",
   "mimetype": "text/x-python",
   "name": "python",
   "nbconvert_exporter": "python",
   "pygments_lexer": "ipython3",
   "version": "3.8.5"
  }
 },
 "nbformat": 4,
 "nbformat_minor": 2
}
