{
 "cells": [
  {
   "cell_type": "markdown",
   "metadata": {},
   "source": [
    "# Assignment 0: Setting Up Your Environment!"
   ]
  },
  {
   "cell_type": "markdown",
   "metadata": {},
   "source": [
    "## [Task 1] Check that the cell below runs with no errors and that the version of Python is at least 3.6 and the version of Tensorflow is at least 2.0!"
   ]
  },
  {
   "cell_type": "code",
   "execution_count": 1,
   "metadata": {},
   "outputs": [
    {
     "name": "stdout",
     "output_type": "stream",
     "text": [
      "### Python version: 3.8.3 (default, Jul  2 2020, 11:26:31) \n",
      "[Clang 10.0.0 ]\n",
      "### Numpy version: 1.19.5\n",
      "### Scipy version: 1.5.0\n",
      "### Pandas version: 1.0.5\n",
      "### Scikit-learn version: 0.23.1\n",
      "### Matplotlib version: 3.2.2\n",
      "### TensorFlow version: 2.4.0\n",
      "### Keras version: 2.4.0\n",
      "------------\n"
     ]
    }
   ],
   "source": [
    "# Load packages we need\n",
    "import sys\n",
    "import os\n",
    "\n",
    "import numpy as np\n",
    "import scipy as sp\n",
    "import pandas as pd\n",
    "\n",
    "import sklearn\n",
    "\n",
    "import matplotlib \n",
    "\n",
    "import tensorflow as tf\n",
    "\n",
    "# Let's check our software versions\n",
    "print('### Python version: ' + sys.version)\n",
    "print('### Numpy version: ' + np.__version__)\n",
    "print('### Scipy version: ' + sp.__version__)\n",
    "print('### Pandas version: ' + pd.__version__)\n",
    "print('### Scikit-learn version: ' + sklearn.__version__)\n",
    "print('### Matplotlib version: ' + matplotlib.__version__)\n",
    "print('### TensorFlow version: ' + tf.__version__)\n",
    "print('### Keras version: ' + tf.keras.__version__)\n",
    "print('------------')"
   ]
  },
  {
   "cell_type": "markdown",
   "metadata": {},
   "source": [
    "### [Task 1] (10 Points) Paste in the cell below the output of the cell above (with the library versions)!\n"
   ]
  },
  {
   "cell_type": "code",
   "execution_count": 2,
   "metadata": {},
   "outputs": [],
   "source": [
    "# Paste the output here:\n",
    "#\n",
    "### Python version: 3.8.3 (default, Jul  2 2020, 11:26:31) [Clang 10.0.0 ]\n",
    "### Numpy version: 1.19.5\n",
    "### Scipy version: 1.5.0\n",
    "### Pandas version: 1.0.5\n",
    "### Scikit-learn version: 0.23.1\n",
    "### Matplotlib version: 3.2.2\n",
    "### TensorFlow version: 2.4.0\n",
    "### Keras version: 2.4.0"
   ]
  },
  {
   "cell_type": "markdown",
   "metadata": {},
   "source": [
    "# [Task 2] (15 Points) Tell us a little bit about yourself and what you hope to learn in this course"
   ]
  },
  {
   "cell_type": "markdown",
   "metadata": {},
   "source": [
    "## [Task 2a] (5 Points) Write your name and email address"
   ]
  },
  {
   "cell_type": "code",
   "execution_count": 3,
   "metadata": {},
   "outputs": [],
   "source": [
    "# Name: Yang Bai\n",
    "# Email: baiyang94@ufl.edu"
   ]
  },
  {
   "cell_type": "markdown",
   "metadata": {},
   "source": [
    "## [Task 2b] (5 Points) Write a brief description of your academic history (2-3 sentences is fine)"
   ]
  },
  {
   "cell_type": "code",
   "execution_count": 4,
   "metadata": {},
   "outputs": [],
   "source": [
    "# Write your answer here:\n",
    "\n",
    "# I'm a Ph.D. student of the Data Science Research Lab at the CISE department of the UF.\n",
    "# This is the second year of my Ph.D. \n",
    "# I got my master’s degree from the ECE department of the University of Florida two years ago."
   ]
  },
  {
   "cell_type": "markdown",
   "metadata": {},
   "source": [
    "## [Task 2c] (5 Points) Briefly describe what you hope to learn in this course (a few sentences is fine)"
   ]
  },
  {
   "cell_type": "code",
   "execution_count": 5,
   "metadata": {},
   "outputs": [],
   "source": [
    "# Write your answer here:\n",
    "\n",
    "# I'm looking for more theoretical knowledge and hands-on experience in machine learning that can help me with my current research in NLP.\n",
    "# Especially, it would be great if I can get some exercise or assignment experience in the implementation of one/some of the state-of-the-art sequential models like LSTM, Transformer, GPT2/3, BERT, BART, etc., in this class.\n"
   ]
  }
 ],
 "metadata": {
  "kernelspec": {
   "display_name": "Python 3",
   "language": "python",
   "name": "python3"
  },
  "language_info": {
   "codemirror_mode": {
    "name": "ipython",
    "version": 3
   },
   "file_extension": ".py",
   "mimetype": "text/x-python",
   "name": "python",
   "nbconvert_exporter": "python",
   "pygments_lexer": "ipython3",
   "version": "3.8.3"
  }
 },
 "nbformat": 4,
 "nbformat_minor": 2
}
